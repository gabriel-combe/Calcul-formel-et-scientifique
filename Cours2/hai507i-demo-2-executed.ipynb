{
 "cells": [
  {
   "cell_type": "code",
   "execution_count": 116,
   "metadata": {},
   "outputs": [],
   "source": [
    "%display latex\n",
    "%display default"
   ]
  },
  {
   "cell_type": "markdown",
   "metadata": {},
   "source": [
    "## Précision numérique"
   ]
  },
  {
   "cell_type": "markdown",
   "metadata": {},
   "source": [
    "Par défaut, les nombres flottants et les calculs flottants sont fait avec une précision de 53 bits"
   ]
  },
  {
   "cell_type": "code",
   "execution_count": 2,
   "metadata": {
    "scrolled": true
   },
   "outputs": [
    {
     "data": {
      "text/plain": [
       "Real Field with 53 bits of precision"
      ]
     },
     "execution_count": 2,
     "metadata": {},
     "output_type": "execute_result"
    }
   ],
   "source": [
    "a= 3.0\n",
    "a.parent()"
   ]
  },
  {
   "cell_type": "code",
   "execution_count": 4,
   "metadata": {},
   "outputs": [
    {
     "data": {
      "text/plain": [
       "53"
      ]
     },
     "execution_count": 4,
     "metadata": {},
     "output_type": "execute_result"
    }
   ],
   "source": [
    "a.precision()"
   ]
  },
  {
   "cell_type": "code",
   "execution_count": 5,
   "metadata": {},
   "outputs": [
    {
     "data": {
      "text/plain": [
       "Real Field with 53 bits of precision"
      ]
     },
     "execution_count": 5,
     "metadata": {},
     "output_type": "execute_result"
    }
   ],
   "source": [
    "(1.0/3.0).parent()"
   ]
  },
  {
   "cell_type": "code",
   "execution_count": 6,
   "metadata": {},
   "outputs": [
    {
     "name": "stdout",
     "output_type": "stream",
     "text": [
      "1/3 Rational Field\n",
      "0.333333333333333 Real Field with 53 bits of precision\n",
      "0.333333333333333 Real Field with 53 bits of precision\n"
     ]
    }
   ],
   "source": [
    "print(1/3, (1/3).parent())\n",
    "print( (1/3).n(), (1/3).n().parent())\n",
    "print(RR(1/3), RR(1/3).parent())\n"
   ]
  },
  {
   "cell_type": "markdown",
   "metadata": {},
   "source": [
    "Les nombres flottants sont définis comme instance de l'objet `RealField`. On peut spécifier la précision de cette objet."
   ]
  },
  {
   "cell_type": "code",
   "execution_count": 7,
   "metadata": {},
   "outputs": [
    {
     "data": {
      "text/plain": [
       "(53, 10, 200)"
      ]
     },
     "execution_count": 7,
     "metadata": {},
     "output_type": "execute_result"
    }
   ],
   "source": [
    "R=RealField()\n",
    "R10=RealField(10)\n",
    "R200=RealField(200)\n",
    "\n",
    "R.precision(), R10.precision(), R200.precision()"
   ]
  },
  {
   "cell_type": "code",
   "execution_count": 8,
   "metadata": {},
   "outputs": [
    {
     "data": {
      "text/plain": [
       "(3.69670656868857e54,\n",
       " 3.6e54,\n",
       " 3.6967065686885807935368708162449489665828918404074416864066e54)"
      ]
     },
     "execution_count": 8,
     "metadata": {},
     "output_type": "execute_result"
    }
   ],
   "source": [
    "a   = R(3.513)\n",
    "a10 = R10(3.513)\n",
    "a200= R200(3.513)\n",
    "\n",
    "a^100, a10^100, a200^100"
   ]
  },
  {
   "cell_type": "markdown",
   "metadata": {},
   "source": [
    "Calcul de $0.3-0.2-0.1$ avec différentes précisions"
   ]
  },
  {
   "cell_type": "code",
   "execution_count": 9,
   "metadata": {},
   "outputs": [
    {
     "data": {
      "text/plain": [
       "(-2.77555756156289e-17,\n",
       " -0.00012,\n",
       " 7.7787690973264271339300800672251553007378152109014589163764e-62)"
      ]
     },
     "execution_count": 9,
     "metadata": {},
     "output_type": "execute_result"
    }
   ],
   "source": [
    "a,b,c=.3,.2,.1\n",
    "a10,b10,c10=R10(.3),R10(.2),R10(.1)\n",
    "a200,b200,c200=R200(.3),R200(.2),R200(.1)\n",
    "a-b-c,a10-b10-c10,a200-b200-c200"
   ]
  },
  {
   "cell_type": "markdown",
   "metadata": {},
   "source": [
    "**Attention:** \n",
    "- si on ne précise pas RealField, la précision est calculée automatiquement.\n",
    "- si les calculs sont mixtes (opérandes avec différentes précisions), les calculs sont fait dans la plus petite précision"
   ]
  },
  {
   "cell_type": "code",
   "execution_count": 12,
   "metadata": {},
   "outputs": [
    {
     "data": {
      "text/plain": [
       "(143, Real Field with 143 bits of precision)"
      ]
     },
     "execution_count": 12,
     "metadata": {},
     "output_type": "execute_result"
    }
   ],
   "source": [
    "a=0.5555555555554033333333323232323233232111117\n",
    "a.precision(), a.parent()"
   ]
  },
  {
   "cell_type": "code",
   "execution_count": 13,
   "metadata": {},
   "outputs": [
    {
     "data": {
      "text/plain": [
       "(-0.00012, -0.00012)"
      ]
     },
     "execution_count": 13,
     "metadata": {},
     "output_type": "execute_result"
    }
   ],
   "source": [
    "a10-b200-c200, a10-b10-c10"
   ]
  },
  {
   "cell_type": "code",
   "execution_count": 14,
   "metadata": {},
   "outputs": [
    {
     "data": {
      "text/plain": [
       "(3.00000024822111e-11, 3.00000000010000e-11, 3.00000024822111e-11)"
      ]
     },
     "execution_count": 14,
     "metadata": {},
     "output_type": "execute_result"
    }
   ],
   "source": [
    "a= 0.1e-20\n",
    "b= 0.1\n",
    "c= 0.3e-10\n",
    "a+b+c-b,b-b+a+c,a+c+b-b"
   ]
  },
  {
   "cell_type": "markdown",
   "metadata": {},
   "source": [
    "**A RETENIR**\n",
    "> - `RealField(p)` est l'objet définissant les approximations flottantes à précision $p$\n",
    "> - `numerical_approx(expr, p)` ou `n(expr,p)` ou `expr.n(p)` retourne l'approximation flottante de l'expression `expr` à précision `p`\n",
    "> - par défaut `RealField(53)` est utilisé (déjà défini dans `RR`)"
   ]
  },
  {
   "cell_type": "markdown",
   "metadata": {},
   "source": [
    "## Exemple de problème de précision"
   ]
  },
  {
   "cell_type": "markdown",
   "metadata": {},
   "source": [
    "### calcul de racine carré"
   ]
  },
  {
   "cell_type": "code",
   "execution_count": 15,
   "metadata": {},
   "outputs": [
    {
     "name": "stdout",
     "output_type": "stream",
     "text": [
      "l'entier b est codée sur 347 bits\n"
     ]
    },
    {
     "data": {
      "text/plain": [
       "1686961934066707040236155036109474174986501789839001*sqrt(51)"
      ]
     },
     "execution_count": 15,
     "metadata": {},
     "output_type": "execute_result"
    }
   ],
   "source": [
    "a=51\n",
    "b=a^61\n",
    "print(\"l'entier b est codée sur \"+str( b.nbits()) + \" bits\")\n",
    "r=sqrt(b)\n",
    "r"
   ]
  },
  {
   "cell_type": "code",
   "execution_count": 16,
   "metadata": {},
   "outputs": [
    {
     "name": "stdout",
     "output_type": "stream",
     "text": [
      "12047317913813611992216795507023424262776490557440000 12047317913813610588023392961569665056411324497659166\n"
     ]
    },
    {
     "data": {
      "text/plain": [
       "(False, True)"
      ]
     },
     "execution_count": 16,
     "metadata": {},
     "output_type": "execute_result"
    }
   ],
   "source": [
    "s   = R(sqrt(b))\n",
    "s200= R200(sqrt(b))\n",
    "print(floor(s),floor(s200))\n",
    "floor(s)^2 <= b <(floor(s)+1)^2,\\\n",
    "floor(s200)^2 <= b <=(floor(s200)+1)^2"
   ]
  },
  {
   "cell_type": "markdown",
   "metadata": {},
   "source": [
    "## résolution de système d'équations linéaires \n"
   ]
  },
  {
   "cell_type": "code",
   "execution_count": 17,
   "metadata": {},
   "outputs": [],
   "source": [
    "N=2\n",
    "MS=MatrixSpace(QQ,N)\n",
    "VS=VectorSpace(QQ,N)\n",
    "A=MS.random_element(density=1,num_bound=10,den_bound=10)\n",
    "b=VS.random_element(num_bound=100,den_bound=100)\n",
    "V=var(list(\"x\"+ str(i) for i in range(N)))\n",
    "X=vector(V)\n",
    "eq=list((A*X)[i]==b[i] for i in range(N))"
   ]
  },
  {
   "cell_type": "markdown",
   "metadata": {},
   "source": [
    "### La fonction `solve`\n",
    "\n",
    "elle prend une liste d'équations symboliques et une liste d'inconnues"
   ]
  },
  {
   "cell_type": "code",
   "execution_count": 19,
   "metadata": {
    "scrolled": true
   },
   "outputs": [
    {
     "name": "stdout",
     "output_type": "stream",
     "text": [
      "variables: (x0, x1)\n",
      "Equations: [-1/2*x0 + 4/5*x1 == (-74/15), 7/6*x0 - 5/2*x1 == (11/28)]\n",
      "-1/2*x0 + 4/5*x1 == (-74/15)\n",
      "7/6*x0 - 5/2*x1 == (11/28)\n"
     ]
    }
   ],
   "source": [
    "print(\"variables:\",V)\n",
    "print(\"Equations:\",eq)\n",
    "for i in range(N):\n",
    "   print(eq[i])"
   ]
  },
  {
   "cell_type": "code",
   "execution_count": 20,
   "metadata": {},
   "outputs": [
    {
     "data": {
      "text/plain": [
       "[[x0 == (5048/133), x1 == (14009/798)]]"
      ]
     },
     "execution_count": 20,
     "metadata": {},
     "output_type": "execute_result"
    }
   ],
   "source": [
    "sol=solve(eq, V)\n",
    "sol"
   ]
  },
  {
   "cell_type": "markdown",
   "metadata": {},
   "source": [
    "Est-il possible de faire la même chose mais de faire le calcul numériquement ?"
   ]
  },
  {
   "cell_type": "code",
   "execution_count": 21,
   "metadata": {},
   "outputs": [
    {
     "name": "stdout",
     "output_type": "stream",
     "text": [
      "variables: (x0, x1)\n",
      "Equations: [-0.500000000000000*x0 + 0.800000000000000*x1 == -4.93333333333333, 1.16666666666667*x0 - 2.50000000000000*x1 == 0.392857142857143]\n"
     ]
    }
   ],
   "source": [
    "eqf=list((A.n()*X)[i]==b[i].n() for i in range(N))\n",
    "print(\"variables:\",V)\n",
    "print(\"Equations:\",eqf)\n",
    "#for i in range(N):\n",
    "#    print(eqf[i])"
   ]
  },
  {
   "cell_type": "code",
   "execution_count": 22,
   "metadata": {},
   "outputs": [
    {
     "data": {
      "text/plain": [
       "[[x0 == (5048/133), x1 == (14009/798)]]"
      ]
     },
     "execution_count": 22,
     "metadata": {},
     "output_type": "execute_result"
    }
   ],
   "source": [
    "solf=solve(eqf,V)\n",
    "solf"
   ]
  },
  {
   "cell_type": "markdown",
   "metadata": {},
   "source": [
    "Quoi, le résultat est le même !!!\n",
    "\n",
    "En fait, `solve` fait appel à une méthode de résolution symbolique. \n",
    "Cela implique que les réels sont transformées en nombre rationnel lors de la résolution. "
   ]
  },
  {
   "cell_type": "markdown",
   "metadata": {},
   "source": [
    "### l'algèbre linéaire"
   ]
  },
  {
   "cell_type": "code",
   "execution_count": 24,
   "metadata": {},
   "outputs": [
    {
     "data": {
      "text/plain": [
       "[-1/2*x0 + 4/5*x1 == (-74/15), 7/6*x0 - 5/2*x1 == (11/28)]"
      ]
     },
     "execution_count": 24,
     "metadata": {},
     "output_type": "execute_result"
    }
   ],
   "source": [
    "(eq)"
   ]
  },
  {
   "cell_type": "code",
   "execution_count": 25,
   "metadata": {},
   "outputs": [
    {
     "data": {
      "text/plain": [
       "(\n",
       "[-1/2  4/5]                           \n",
       "[ 7/6 -5/2], (x0, x1), (-74/15, 11/28)\n",
       ")"
      ]
     },
     "execution_count": 25,
     "metadata": {},
     "output_type": "execute_result"
    }
   ],
   "source": [
    "(A, (V), b)"
   ]
  },
  {
   "cell_type": "code",
   "execution_count": 26,
   "metadata": {},
   "outputs": [
    {
     "data": {
      "text/plain": [
       "(5048/133, 14009/798)"
      ]
     },
     "execution_count": 26,
     "metadata": {},
     "output_type": "execute_result"
    }
   ],
   "source": [
    "y=A.solve_right(b)\n",
    "(y)"
   ]
  },
  {
   "cell_type": "markdown",
   "metadata": {},
   "source": [
    "Pareil mais en numérique"
   ]
  },
  {
   "cell_type": "code",
   "execution_count": 27,
   "metadata": {},
   "outputs": [
    {
     "data": {
      "text/plain": [
       "(\n",
       "[-0.500000000000000  0.800000000000000]          \n",
       "[  1.16666666666667  -2.50000000000000], (x0, x1),\n",
       "\n",
       "(-4.93333333333333, 0.392857142857143)\n",
       ")"
      ]
     },
     "execution_count": 27,
     "metadata": {},
     "output_type": "execute_result"
    }
   ],
   "source": [
    "Af=A.numerical_approx()\n",
    "bf=b.n()\n",
    "(Af,V,bf)"
   ]
  },
  {
   "cell_type": "code",
   "execution_count": 28,
   "metadata": {},
   "outputs": [
    {
     "data": {
      "text/plain": [
       "(37.9548872180451, 17.5551378446115)"
      ]
     },
     "execution_count": 28,
     "metadata": {},
     "output_type": "execute_result"
    }
   ],
   "source": [
    "yf=Af.solve_right(bf)\n",
    "(yf)"
   ]
  },
  {
   "cell_type": "code",
   "execution_count": 29,
   "metadata": {},
   "outputs": [
    {
     "data": {
      "text/plain": [
       "(-1.42108547152020e-14, -1.06581410364015e-14)"
      ]
     },
     "execution_count": 29,
     "metadata": {},
     "output_type": "execute_result"
    }
   ],
   "source": [
    "# difference des solutions\n",
    "y.n()-yf"
   ]
  },
  {
   "cell_type": "markdown",
   "metadata": {},
   "source": [
    "Tout pareil mais en plus grand"
   ]
  },
  {
   "cell_type": "code",
   "execution_count": 30,
   "metadata": {},
   "outputs": [],
   "source": [
    "N=80\n",
    "MS=MatrixSpace(QQ,N)\n",
    "VS=VectorSpace(QQ,N)\n",
    "A=MS.random_element(density=1,num_bound=100,den_bound=100)\n",
    "b=VS.random_element(num_bound=100,den_bound=100)\n"
   ]
  },
  {
   "cell_type": "code",
   "execution_count": 31,
   "metadata": {
    "scrolled": true
   },
   "outputs": [
    {
     "name": "stdout",
     "output_type": "stream",
     "text": [
      "CPU times: user 11.1 s, sys: 31 ms, total: 11.1 s\n",
      "Wall time: 11.3 s\n"
     ]
    }
   ],
   "source": [
    "#print(A,b)\n",
    "%time y=A.solve_right(b)"
   ]
  },
  {
   "cell_type": "code",
   "execution_count": 32,
   "metadata": {},
   "outputs": [
    {
     "data": {
      "text/plain": [
       "89238225933726969617630364572161880729766690463472967439818054207534152453718991237589664625866948046276683823693121086823947914991603413369762031931629994152882640775504652872007202894043786117489966127334512480844035610818803012329032698637011113673204169898782417466029298023991303222529552678185379756830476860270941751367838762889915618972382604987935862441786308004241255723475781753584116623583168288933298975669730680734391749786894131411914525636579092595442486324673018443444490066561175406384019048075517737389031055468559885029527967788850358672588964707242810813940587417804607703314646824595314513478095631222680746013000517969019470725887980341822283310836393145412955138155220865450397341136812819130450496466923870813378094665981257491839880923381638131817189906430325481057625628385892572097104535161100001314782935271784945394861385648193093197576221040669279194628033039732368664185950022634856203700994864676737209190530497808986135783676407599473158706795261516035938368554688618291823326126653924883085140882676295635316285939410220608836847950476657620616108926677092314729758478734060939638388046255765900782929830834174598265649900571520244828901269708261107860993749280521805108806139338920848817964442072843717610480983189712010565007391999373639023915366234080448203315779362371624409021605526292355557276178592309431672215625562518074059564233975893793719907708848832357327706506736197586386944956270880332456261255124022256980925650829911232837816447341239333478503577712079931907285616734761308344509274526944759296191404017982225534919611901513503388334350873625513369061789040674008541849540637864258476320850890894886513504148458509436221030655760552454648066549899230184726633385387510006463958372207425850556436599105751907214988246466091775426848737762620793598899818251566369497853832563734617122710544442802357872314734481792947147873070909149054053376391529674502693641050707224775374320910250378160814149988650739522595112659649532420177523843182618782354839347360116494344722012408512492783340858311805951786992864539210577155281373882530572631531871189087029653849330035813795447763905388772490750891657618541104559091229960039588305845774614641336718658406141631209727860944922729807491150959076195270246934377263591066881212371860808018039542097242421121843894377367/4811178266359835747444848266919767661310551693700929579384351249463934238603677512711467154398632146427232672446471014617815366531092460082331344819805757552339906670779662897090333231504547974509830592372745258542296148949034470579198976367371202052284105842508175812707411902753976583561876833526922527976670113131848011728364960642791302786027126240487775011543011722330034740082630506399710713677498551312792792186601209413293837380877389615488610077553077919501948400474513019296421957995999887860409389216419045873682006685118177660668395756073819900444729465838506909257107742573688384543958143241552074928297852307960670245100345140334548328855070203275289446259790196439909285204556581789295053150439357188873083808331037493573314248254112674802091492622659050175885231180699617395492157876188532878133486587444819832990719082245617382946206863300033450254081777766766301397421064657838836558723334930277191665633014180605537334165911724973413795036467110805444467626921785105961877317835010536210198735984520619841575109226734967337462991709063929163151762763291366385634191366556736330435896201179229155263302054318837172861325582131615521571010588000478947455930653172229357810245079120170665012004446810346207193125029970449906389082135128939124843027912498410475246879852580020415654506886248261879597746022135571084664422334388205303023583195542518643317444783422830428868882051967026299619617266011835567077988180094661914128942453457542448001658535359400445361413101967162300591292745627764037339396352987030295288547061620827467614955614986604536180308174290185562079083844858287921344938856229910800298726056104051504248335407617257879836993046009074071562512717034414344739320816112893079786729472843170379103564597918476280429836761086703004874652545485606677396509721938763029030329910077033406195127861978980259017939420666930734794333153342481908126617484807472506882269635606062886433039364073379454331056338447221311873892296371597305866547072004491506171566153945080262081718591309168711455061108821745647869251611046086240553566025398129708986912039007837147147694516452067426239585228479245372566279689821068771187615507820881502658562378817177299101116445024370515585889178671763714484219335990076034114262634614154819274801730116074469469004342169843036753617927670077888163266798784"
      ]
     },
     "execution_count": 32,
     "metadata": {},
     "output_type": "execute_result"
    }
   ],
   "source": [
    "y[0]"
   ]
  },
  {
   "cell_type": "code",
   "execution_count": 33,
   "metadata": {},
   "outputs": [
    {
     "name": "stdout",
     "output_type": "stream",
     "text": [
      "num(y[0])= 89238225933726969617630364572161880729766690463472967439818054207534152453718991237589664625866948046276683823693121086823947914991603413369762031931629994152882640775504652872007202894043786117489966127334512480844035610818803012329032698637011113673204169898782417466029298023991303222529552678185379756830476860270941751367838762889915618972382604987935862441786308004241255723475781753584116623583168288933298975669730680734391749786894131411914525636579092595442486324673018443444490066561175406384019048075517737389031055468559885029527967788850358672588964707242810813940587417804607703314646824595314513478095631222680746013000517969019470725887980341822283310836393145412955138155220865450397341136812819130450496466923870813378094665981257491839880923381638131817189906430325481057625628385892572097104535161100001314782935271784945394861385648193093197576221040669279194628033039732368664185950022634856203700994864676737209190530497808986135783676407599473158706795261516035938368554688618291823326126653924883085140882676295635316285939410220608836847950476657620616108926677092314729758478734060939638388046255765900782929830834174598265649900571520244828901269708261107860993749280521805108806139338920848817964442072843717610480983189712010565007391999373639023915366234080448203315779362371624409021605526292355557276178592309431672215625562518074059564233975893793719907708848832357327706506736197586386944956270880332456261255124022256980925650829911232837816447341239333478503577712079931907285616734761308344509274526944759296191404017982225534919611901513503388334350873625513369061789040674008541849540637864258476320850890894886513504148458509436221030655760552454648066549899230184726633385387510006463958372207425850556436599105751907214988246466091775426848737762620793598899818251566369497853832563734617122710544442802357872314734481792947147873070909149054053376391529674502693641050707224775374320910250378160814149988650739522595112659649532420177523843182618782354839347360116494344722012408512492783340858311805951786992864539210577155281373882530572631531871189087029653849330035813795447763905388772490750891657618541104559091229960039588305845774614641336718658406141631209727860944922729807491150959076195270246934377263591066881212371860808018039542097242421121843894377367 \n",
      "\n",
      "den(y[0])= 4811178266359835747444848266919767661310551693700929579384351249463934238603677512711467154398632146427232672446471014617815366531092460082331344819805757552339906670779662897090333231504547974509830592372745258542296148949034470579198976367371202052284105842508175812707411902753976583561876833526922527976670113131848011728364960642791302786027126240487775011543011722330034740082630506399710713677498551312792792186601209413293837380877389615488610077553077919501948400474513019296421957995999887860409389216419045873682006685118177660668395756073819900444729465838506909257107742573688384543958143241552074928297852307960670245100345140334548328855070203275289446259790196439909285204556581789295053150439357188873083808331037493573314248254112674802091492622659050175885231180699617395492157876188532878133486587444819832990719082245617382946206863300033450254081777766766301397421064657838836558723334930277191665633014180605537334165911724973413795036467110805444467626921785105961877317835010536210198735984520619841575109226734967337462991709063929163151762763291366385634191366556736330435896201179229155263302054318837172861325582131615521571010588000478947455930653172229357810245079120170665012004446810346207193125029970449906389082135128939124843027912498410475246879852580020415654506886248261879597746022135571084664422334388205303023583195542518643317444783422830428868882051967026299619617266011835567077988180094661914128942453457542448001658535359400445361413101967162300591292745627764037339396352987030295288547061620827467614955614986604536180308174290185562079083844858287921344938856229910800298726056104051504248335407617257879836993046009074071562512717034414344739320816112893079786729472843170379103564597918476280429836761086703004874652545485606677396509721938763029030329910077033406195127861978980259017939420666930734794333153342481908126617484807472506882269635606062886433039364073379454331056338447221311873892296371597305866547072004491506171566153945080262081718591309168711455061108821745647869251611046086240553566025398129708986912039007837147147694516452067426239585228479245372566279689821068771187615507820881502658562378817177299101116445024370515585889178671763714484219335990076034114262634614154819274801730116074469469004342169843036753617927670077888163266798784\n"
     ]
    }
   ],
   "source": [
    "print(\"num(y[0])=\",y[0].numerator(),'\\n')\n",
    "print(\"den(y[0])=\",y[0].denominator())"
   ]
  },
  {
   "cell_type": "code",
   "execution_count": 34,
   "metadata": {},
   "outputs": [
    {
     "name": "stdout",
     "output_type": "stream",
     "text": [
      "CPU times: user 219 ms, sys: 0 ns, total: 219 ms\n",
      "Wall time: 212 ms\n"
     ]
    }
   ],
   "source": [
    "Af=A.n()\n",
    "bf=b.n()\n",
    "%time yf= Af.solve_right(bf)"
   ]
  },
  {
   "cell_type": "code",
   "execution_count": 35,
   "metadata": {},
   "outputs": [
    {
     "name": "stdout",
     "output_type": "stream",
     "text": [
      "yf[0]= 0.0185481021483130\n"
     ]
    },
    {
     "data": {
      "text/plain": [
       "(-9.26758669805849e-13, 9.09494701772928e-13)"
      ]
     },
     "execution_count": 35,
     "metadata": {},
     "output_type": "execute_result"
    }
   ],
   "source": [
    "print(\"yf[0]=\",yf[0])\n",
    "#erreur commise par la résolution numérique\n",
    "y[0]-yf[0], (Af*yf)[0]- bf[0]"
   ]
  },
  {
   "cell_type": "code",
   "execution_count": 39,
   "metadata": {},
   "outputs": [
    {
     "data": {
      "text/plain": [
       "(20 x 20 dense matrix over Rational Field,\n",
       " (1, 0, -1, -1, 0, -1, -1, 0, -1, 1, 7, 1, 61, 1, -6, -1, 0, 0, 4, 1))"
      ]
     },
     "execution_count": 39,
     "metadata": {},
     "output_type": "execute_result"
    }
   ],
   "source": [
    "N=20\n",
    "A=matrix(N,N,lambda i,j : 1/(i+j+1))\n",
    "b=vector([ZZ.random_element() for i in range(N)])\n",
    "((A), b)"
   ]
  },
  {
   "cell_type": "code",
   "execution_count": 40,
   "metadata": {},
   "outputs": [
    {
     "name": "stdout",
     "output_type": "stream",
     "text": [
      "CPU times: user 0 ns, sys: 0 ns, total: 0 ns\n",
      "Wall time: 13.1 ms\n",
      "CPU times: user 0 ns, sys: 0 ns, total: 0 ns\n",
      "Wall time: 4.73 ms\n"
     ]
    }
   ],
   "source": [
    "Af=A.n()\n",
    "bf=b.n()\n",
    "%time y = A.solve_right(b)\n",
    "%time yf= Af.solve_right(bf)"
   ]
  },
  {
   "cell_type": "code",
   "execution_count": 43,
   "metadata": {
    "scrolled": true
   },
   "outputs": [
    {
     "name": "stdout",
     "output_type": "stream",
     "text": [
      "yf[0]= 3.43013324313057e11\n"
     ]
    },
    {
     "data": {
      "text/plain": [
       "(1.66072320000000e7, 1.00000000000000, False)"
      ]
     },
     "execution_count": 43,
     "metadata": {},
     "output_type": "execute_result"
    }
   ],
   "source": [
    "### le résultat avec les flottants est complètement faux\n",
    "print(\"yf[0]=\",yf[0])\n",
    "(Af*yf)[0], bf[0], Af*yf==bf"
   ]
  },
  {
   "cell_type": "code",
   "execution_count": 44,
   "metadata": {},
   "outputs": [
    {
     "name": "stdout",
     "output_type": "stream",
     "text": [
      "y[0]= 19132637015033500\n"
     ]
    },
    {
     "data": {
      "text/plain": [
       "(1, 1, True)"
      ]
     },
     "execution_count": 44,
     "metadata": {},
     "output_type": "execute_result"
    }
   ],
   "source": [
    "### le résultat avec les rationnels est exact\n",
    "print(\"y[0]=\",y[0])\n",
    "(A*y)[0],b[0],A*y==b"
   ]
  },
  {
   "cell_type": "markdown",
   "metadata": {},
   "source": [
    "**A RETENIR**\n",
    "- la fonction `solve` est une méthode de résolution symbolique\n",
    "- les calculs avec les flottants peuvent être plus rapides mais aussi faux (surtout en algèbre linéaire)\n",
    "- les calculs avec les rationnels entrainent un grossissement des données mais le résultat est toujours correct"
   ]
  },
  {
   "cell_type": "markdown",
   "metadata": {},
   "source": [
    "## Limite du calcul symbolique"
   ]
  },
  {
   "cell_type": "code",
   "execution_count": 45,
   "metadata": {},
   "outputs": [
    {
     "data": {
      "text/html": [
       "<html><script type=\"math/tex; mode=display\">\\newcommand{\\Bold}[1]{\\mathbf{#1}}a c + b c</script></html>"
      ],
      "text/latex": [
       "$$\\newcommand{\\Bold}[1]{\\mathbf{#1}}a c + b c$$"
      ],
      "text/plain": [
       "a*c + b*c"
      ]
     },
     "metadata": {},
     "output_type": "display_data"
    },
    {
     "data": {
      "text/html": [
       "<html><script type=\"math/tex; mode=display\">\\newcommand{\\Bold}[1]{\\mathbf{#1}}{\\left(a + b\\right)} c</script></html>"
      ],
      "text/latex": [
       "$$\\newcommand{\\Bold}[1]{\\mathbf{#1}}{\\left(a + b\\right)} c$$"
      ],
      "text/plain": [
       "(a + b)*c"
      ]
     },
     "metadata": {},
     "output_type": "display_data"
    },
    {
     "data": {
      "text/html": [
       "<html><script type=\"math/tex; mode=display\">\\newcommand{\\Bold}[1]{\\mathbf{#1}}{\\left(a + b\\right)} c = {\\left(a + b\\right)} c</script></html>"
      ],
      "text/latex": [
       "$$\\newcommand{\\Bold}[1]{\\mathbf{#1}}{\\left(a + b\\right)} c = {\\left(a + b\\right)} c$$"
      ],
      "text/plain": [
       "(a + b)*c == (a + b)*c"
      ]
     },
     "metadata": {},
     "output_type": "display_data"
    },
    {
     "data": {
      "text/html": [
       "<html><script type=\"math/tex; mode=display\">\\newcommand{\\Bold}[1]{\\mathbf{#1}}a c + b c = a c + b c</script></html>"
      ],
      "text/latex": [
       "$$\\newcommand{\\Bold}[1]{\\mathbf{#1}}a c + b c = a c + b c$$"
      ],
      "text/plain": [
       "a*c + b*c == a*c + b*c"
      ]
     },
     "metadata": {},
     "output_type": "display_data"
    },
    {
     "data": {
      "text/plain": [
       "True"
      ]
     },
     "execution_count": 45,
     "metadata": {},
     "output_type": "execute_result"
    }
   ],
   "source": [
    "var('a b c')\n",
    "e1=a*c+b*c\n",
    "e2=(a+b)*c\n",
    "e1.show()\n",
    "e2.show()\n",
    "(e2 == e1.collect(c)).show()\n",
    "(e1 == e2.expand()).show()\n",
    "bool(e1==e2)"
   ]
  },
  {
   "cell_type": "code",
   "execution_count": 46,
   "metadata": {},
   "outputs": [
    {
     "data": {
      "text/html": [
       "<html><script type=\"math/tex; mode=display\">\\newcommand{\\Bold}[1]{\\mathbf{#1}}{\\left(a - b\\right)}^{2} - a^{2} + 2 \\, a b - b^{2}</script></html>"
      ],
      "text/latex": [
       "$$\\newcommand{\\Bold}[1]{\\mathbf{#1}}{\\left(a - b\\right)}^{2} - a^{2} + 2 \\, a b - b^{2}$$"
      ],
      "text/plain": [
       "(a - b)^2 - a^2 + 2*a*b - b^2"
      ]
     },
     "metadata": {},
     "output_type": "display_data"
    },
    {
     "data": {
      "text/plain": [
       "True"
      ]
     },
     "execution_count": 46,
     "metadata": {},
     "output_type": "execute_result"
    }
   ],
   "source": [
    "e=(a-b)^2-a^2+2*a*b-b^2\n",
    "e.show()\n",
    "bool(e==0)"
   ]
  },
  {
   "cell_type": "code",
   "execution_count": 47,
   "metadata": {},
   "outputs": [
    {
     "data": {
      "text/plain": [
       "(cos(x)^2 + sin(x)^2, 1)"
      ]
     },
     "execution_count": 47,
     "metadata": {},
     "output_type": "execute_result"
    }
   ],
   "source": [
    "var('x')\n",
    "e= cos(x)^2+sin(x)^2\n",
    "e, e.simplify_trig()"
   ]
  },
  {
   "cell_type": "code",
   "execution_count": 48,
   "metadata": {},
   "outputs": [
    {
     "data": {
      "text/plain": [
       "(False, False, True)"
      ]
     },
     "execution_count": 48,
     "metadata": {},
     "output_type": "execute_result"
    }
   ],
   "source": [
    "e=sqrt(x^2)\n",
    "bool(x==e), bool(x==e.simplify_full()),bool(x==e.canonicalize_radical())"
   ]
  },
  {
   "cell_type": "markdown",
   "metadata": {},
   "source": [
    "### Explosion combinatoire des symboles"
   ]
  },
  {
   "cell_type": "code",
   "execution_count": 51,
   "metadata": {},
   "outputs": [
    {
     "data": {
      "text/html": [
       "<html><script type=\"math/tex; mode=display\">\\newcommand{\\Bold}[1]{\\mathbf{#1}}\\verb|A=| \\left(\\begin{array}{rr}\n",
       "\\cos\\left(x\\right) & \\sin\\left(x\\right) \\\\\n",
       "-\\sin\\left(x\\right) & \\cos\\left(x\\right)\n",
       "\\end{array}\\right) \\phantom{\\verb!xx!}\\verb|det(A)=| \\cos\\left(x\\right)^{2} + \\sin\\left(x\\right)^{2}</script></html>"
      ],
      "text/latex": [
       "$$\\newcommand{\\Bold}[1]{\\mathbf{#1}}\\verb|A=| \\left(\\begin{array}{rr}\n",
       "\\cos\\left(x\\right) & \\sin\\left(x\\right) \\\\\n",
       "-\\sin\\left(x\\right) & \\cos\\left(x\\right)\n",
       "\\end{array}\\right) \\phantom{\\verb!xx!}\\verb|det(A)=| \\cos\\left(x\\right)^{2} + \\sin\\left(x\\right)^{2}$$"
      ],
      "text/plain": [
       "'A=' [ cos(x)  sin(x)]\n",
       "[-sin(x)  cos(x)] '  det(A)=' cos(x)^2 + sin(x)^2"
      ]
     },
     "metadata": {},
     "output_type": "display_data"
    }
   ],
   "source": [
    "var('x')\n",
    "A=Matrix(2,2,[[cos(x),sin(x)],[-sin(x),cos(x)]])\n",
    "show(\"A=\",A,\"  det(A)=\",A.determinant())"
   ]
  },
  {
   "cell_type": "code",
   "execution_count": 54,
   "metadata": {},
   "outputs": [
    {
     "name": "stdout",
     "output_type": "stream",
     "text": [
      "d= 16*(16*(256*(16*(cos(x)^2 - sin(x)^2)^2*cos(x)^2*sin(x)^2 - (4*cos(x)^2*sin(x)^2 - (cos(x)^2 - sin(x)^2)^2)^2)^2*(4*cos(x)^2*sin(x)^2 - (cos(x)^2 - sin(x)^2)^2)^2*(cos(x)^2 - sin(x)^2)^2*cos(x)^2*sin(x)^2 - (64*(4*cos(x)^2*sin(x)^2 - (cos(x)^2 - sin(x)^2)^2)^2*(cos(x)^2 - sin(x)^2)^2*cos(x)^2*sin(x)^2 - (16*(cos(x)^2 - sin(x)^2)^2*cos(x)^2*sin(x)^2 - (4*cos(x)^2*sin(x)^2 - (cos(x)^2 - sin(x)^2)^2)^2)^2)^2)*(128*(64*(4*cos(x)^2*sin(x)^2 - (cos(x)^2 - sin(x)^2)^2)^2*(cos(x)^2 - sin(x)^2)^2*cos(x)^2*sin(x)^2 - (16*(cos(x)^2 - sin(x)^2)^2*cos(x)^2*sin(x)^2 - (4*cos(x)^2*sin(x)^2 - (cos(x)^2 - sin(x)^2)^2)^2)^2)*(16*(cos(x)^2 - sin(x)^2)^2*cos(x)^2*sin(x)^2 - (4*cos(x)^2*sin(x)^2 - (cos(x)^2 - sin(x)^2)^2)^2)*(4*cos(x)^2*sin(x)^2 - (cos(x)^2 - sin(x)^2)^2)*(cos(x)^2 - sin(x)^2)^2*cos(x)^2*sin(x)^2 + (256*(16*(cos(x)^2 - sin(x)^2)^2*cos(x)^2*sin(x)^2 - (4*cos(x)^2*sin(x)^2 - (cos(x)^2 - sin(x)^2)^2)^2)^2*(4*cos(x)^2*sin(x)^2 - (cos(x)^2 - sin(x)^2)^2)^2*(cos(x)^2 - sin(x)^2)^2*cos(x)^2*sin(x)^2 - (64*(4*cos(x)^2*sin(x)^2 - (cos(x)^2 - sin(x)^2)^2)^2*(cos(x)^2 - sin(x)^2)^2*cos(x)^2*sin(x)^2 - (16*(cos(x)^2 - sin(x)^2)^2*cos(x)^2*sin(x)^2 - (4*cos(x)^2*sin(x)^2 - (cos(x)^2 - sin(x)^2)^2)^2)^2)^2)*(4*cos(x)^2*sin(x)^2 - (cos(x)^2 - sin(x)^2)^2))*(64*(4*cos(x)^2*sin(x)^2 - (cos(x)^2 - sin(x)^2)^2)^2*(cos(x)^2 - sin(x)^2)^2*cos(x)^2*sin(x)^2 - (16*(cos(x)^2 - sin(x)^2)^2*cos(x)^2*sin(x)^2 - (4*cos(x)^2*sin(x)^2 - (cos(x)^2 - sin(x)^2)^2)^2)^2)*(16*(cos(x)^2 - sin(x)^2)^2*cos(x)^2*sin(x)^2 - (4*cos(x)^2*sin(x)^2 - (cos(x)^2 - sin(x)^2)^2)^2)*(4*cos(x)^2*sin(x)^2 - (cos(x)^2 - sin(x)^2)^2)*(cos(x)^2 - sin(x)^2)*cos(x)*sin(x) - (1024*(64*(4*cos(x)^2*sin(x)^2 - (cos(x)^2 - sin(x)^2)^2)^2*(cos(x)^2 - sin(x)^2)^2*cos(x)^2*sin(x)^2 - (16*(cos(x)^2 - sin(x)^2)^2*cos(x)^2*sin(x)^2 - (4*cos(x)^2*sin(x)^2 - (cos(x)^2 - sin(x)^2)^2)^2)^2)^2*(16*(cos(x)^2 - sin(x)^2)^2*cos(x)^2*sin(x)^2 - (4*cos(x)^2*sin(x)^2 - (cos(x)^2 - sin(x)^2)^2)^2)^2*(4*cos(x)^2*sin(x)^2 - (cos(x)^2 - sin(x)^2)^2)^2*(cos(x)^2 - sin(x)^2)^2*cos(x)^2*sin(x)^2 - (256*(16*(cos(x)^2 - sin(x)^2)^2*cos(x)^2*sin(x)^2 - (4*cos(x)^2*sin(x)^2 - (cos(x)^2 - sin(x)^2)^2)^2)^2*(4*cos(x)^2*sin(x)^2 - (cos(x)^2 - sin(x)^2)^2)^2*(cos(x)^2 - sin(x)^2)^2*cos(x)^2*sin(x)^2 - (64*(4*cos(x)^2*sin(x)^2 - (cos(x)^2 - sin(x)^2)^2)^2*(cos(x)^2 - sin(x)^2)^2*cos(x)^2*sin(x)^2 - (16*(cos(x)^2 - sin(x)^2)^2*cos(x)^2*sin(x)^2 - (4*cos(x)^2*sin(x)^2 - (cos(x)^2 - sin(x)^2)^2)^2)^2)^2)^2)*(8*(64*(4*cos(x)^2*sin(x)^2 - (cos(x)^2 - sin(x)^2)^2)^2*(cos(x)^2 - sin(x)^2)^2*cos(x)^2*sin(x)^2 - (16*(cos(x)^2 - sin(x)^2)^2*cos(x)^2*sin(x)^2 - (4*cos(x)^2*sin(x)^2 - (cos(x)^2 - sin(x)^2)^2)^2)^2)*(16*(cos(x)^2 - sin(x)^2)^2*cos(x)^2*sin(x)^2 - (4*cos(x)^2*sin(x)^2 - (cos(x)^2 - sin(x)^2)^2)^2)*(4*cos(x)^2*sin(x)^2 - (cos(x)^2 - sin(x)^2)^2)^2*(cos(x)^2 - sin(x)^2)*cos(x)*sin(x) - (256*(16*(cos(x)^2 - sin(x)^2)^2*cos(x)^2*sin(x)^2 - (4*cos(x)^2*sin(x)^2 - (cos(x)^2 - sin(x)^2)^2)^2)^2*(4*cos(x)^2*sin(x)^2 - (cos(x)^2 - sin(x)^2)^2)^2*(cos(x)^2 - sin(x)^2)^2*cos(x)^2*sin(x)^2 - (64*(4*cos(x)^2*sin(x)^2 - (cos(x)^2 - sin(x)^2)^2)^2*(cos(x)^2 - sin(x)^2)^2*cos(x)^2*sin(x)^2 - (16*(cos(x)^2 - sin(x)^2)^2*cos(x)^2*sin(x)^2 - (4*cos(x)^2*sin(x)^2 - (cos(x)^2 - sin(x)^2)^2)^2)^2)^2)*(cos(x)^2 - sin(x)^2)*cos(x)*sin(x)))^2 + (256*(256*(16*(cos(x)^2 - sin(x)^2)^2*cos(x)^2*sin(x)^2 - (4*cos(x)^2*sin(x)^2 - (cos(x)^2 - sin(x)^2)^2)^2)^2*(4*cos(x)^2*sin(x)^2 - (cos(x)^2 - sin(x)^2)^2)^2*(cos(x)^2 - sin(x)^2)^2*cos(x)^2*sin(x)^2 - (64*(4*cos(x)^2*sin(x)^2 - (cos(x)^2 - sin(x)^2)^2)^2*(cos(x)^2 - sin(x)^2)^2*cos(x)^2*sin(x)^2 - (16*(cos(x)^2 - sin(x)^2)^2*cos(x)^2*sin(x)^2 - (4*cos(x)^2*sin(x)^2 - (cos(x)^2 - sin(x)^2)^2)^2)^2)^2)*(64*(4*cos(x)^2*sin(x)^2 - (cos(x)^2 - sin(x)^2)^2)^2*(cos(x)^2 - sin(x)^2)^2*cos(x)^2*sin(x)^2 - (16*(cos(x)^2 - sin(x)^2)^2*cos(x)^2*sin(x)^2 - (4*cos(x)^2*sin(x)^2 - (cos(x)^2 - sin(x)^2)^2)^2)^2)*(8*(64*(4*cos(x)^2*sin(x)^2 - (cos(x)^2 - sin(x)^2)^2)^2*(cos(x)^2 - sin(x)^2)^2*cos(x)^2*sin(x)^2 - (16*(cos(x)^2 - sin(x)^2)^2*cos(x)^2*sin(x)^2 - (4*cos(x)^2*sin(x)^2 - (cos(x)^2 - sin(x)^2)^2)^2)^2)*(16*(cos(x)^2 - sin(x)^2)^2*cos(x)^2*sin(x)^2 - (4*cos(x)^2*sin(x)^2 - (cos(x)^2 - sin(x)^2)^2)^2)*(4*cos(x)^2*sin(x)^2 - (cos(x)^2 - sin(x)^2)^2)^2*(cos(x)^2 - sin(x)^2)*cos(x)*sin(x) - (256*(16*(cos(x)^2 - sin(x)^2)^2*cos(x)^2*sin(x)^2 - (4*cos(x)^2*sin(x)^2 - (cos(x)^2 - sin(x)^2)^2)^2)^2*(4*cos(x)^2*sin(x)^2 - (cos(x)^2 - sin(x)^2)^2)^2*(cos(x)^2 - sin(x)^2)^2*cos(x)^2*sin(x)^2 - (64*(4*cos(x)^2*sin(x)^2 - (cos(x)^2 - sin(x)^2)^2)^2*(cos(x)^2 - sin(x)^2)^2*cos(x)^2*sin(x)^2 - (16*(cos(x)^2 - sin(x)^2)^2*cos(x)^2*sin(x)^2 - (4*cos(x)^2*sin(x)^2 - (cos(x)^2 - sin(x)^2)^2)^2)^2)^2)*(cos(x)^2 - sin(x)^2)*cos(x)*sin(x))*(16*(cos(x)^2 - sin(x)^2)^2*cos(x)^2*sin(x)^2 - (4*cos(x)^2*sin(x)^2 - (cos(x)^2 - sin(x)^2)^2)^2)*(4*cos(x)^2*sin(x)^2 - (cos(x)^2 - sin(x)^2)^2)*(cos(x)^2 - sin(x)^2)*cos(x)*sin(x) + (1024*(64*(4*cos(x)^2*sin(x)^2 - (cos(x)^2 - sin(x)^2)^2)^2*(cos(x)^2 - sin(x)^2)^2*cos(x)^2*sin(x)^2 - (16*(cos(x)^2 - sin(x)^2)^2*cos(x)^2*sin(x)^2 - (4*cos(x)^2*sin(x)^2 - (cos(x)^2 - sin(x)^2)^2)^2)^2)^2*(16*(cos(x)^2 - sin(x)^2)^2*cos(x)^2*sin(x)^2 - (4*cos(x)^2*sin(x)^2 - (cos(x)^2 - sin(x)^2)^2)^2)^2*(4*cos(x)^2*sin(x)^2 - (cos(x)^2 - sin(x)^2)^2)^2*(cos(x)^2 - sin(x)^2)^2*cos(x)^2*sin(x)^2 - (256*(16*(cos(x)^2 - sin(x)^2)^2*cos(x)^2*sin(x)^2 - (4*cos(x)^2*sin(x)^2 - (cos(x)^2 - sin(x)^2)^2)^2)^2*(4*cos(x)^2*sin(x)^2 - (cos(x)^2 - sin(x)^2)^2)^2*(cos(x)^2 - sin(x)^2)^2*cos(x)^2*sin(x)^2 - (64*(4*cos(x)^2*sin(x)^2 - (cos(x)^2 - sin(x)^2)^2)^2*(cos(x)^2 - sin(x)^2)^2*cos(x)^2*sin(x)^2 - (16*(cos(x)^2 - sin(x)^2)^2*cos(x)^2*sin(x)^2 - (4*cos(x)^2*sin(x)^2 - (cos(x)^2 - sin(x)^2)^2)^2)^2)^2)^2)*(128*(64*(4*cos(x)^2*sin(x)^2 - (cos(x)^2 - sin(x)^2)^2)^2*(cos(x)^2 - sin(x)^2)^2*cos(x)^2*sin(x)^2 - (16*(cos(x)^2 - sin(x)^2)^2*cos(x)^2*sin(x)^2 - (4*cos(x)^2*sin(x)^2 - (cos(x)^2 - sin(x)^2)^2)^2)^2)*(16*(cos(x)^2 - sin(x)^2)^2*cos(x)^2*sin(x)^2 - (4*cos(x)^2*sin(x)^2 - (cos(x)^2 - sin(x)^2)^2)^2)*(4*cos(x)^2*sin(x)^2 - (cos(x)^2 - sin(x)^2)^2)*(cos(x)^2 - sin(x)^2)^2*cos(x)^2*sin(x)^2 + (256*(16*(cos(x)^2 - sin(x)^2)^2*cos(x)^2*sin(x)^2 - (4*cos(x)^2*sin(x)^2 - (cos(x)^2 - sin(x)^2)^2)^2)^2*(4*cos(x)^2*sin(x)^2 - (cos(x)^2 - sin(x)^2)^2)^2*(cos(x)^2 - sin(x)^2)^2*cos(x)^2*sin(x)^2 - (64*(4*cos(x)^2*sin(x)^2 - (cos(x)^2 - sin(x)^2)^2)^2*(cos(x)^2 - sin(x)^2)^2*cos(x)^2*sin(x)^2 - (16*(cos(x)^2 - sin(x)^2)^2*cos(x)^2*sin(x)^2 - (4*cos(x)^2*sin(x)^2 - (cos(x)^2 - sin(x)^2)^2)^2)^2)^2)*(4*cos(x)^2*sin(x)^2 - (cos(x)^2 - sin(x)^2)^2)))^2\n"
     ]
    }
   ],
   "source": [
    "N=100\n",
    "d=(A^N).determinant()\n",
    "print(\"d=\",d)\n",
    "\n",
    "# A^N,(A^(N)).expand()"
   ]
  },
  {
   "cell_type": "code",
   "execution_count": 55,
   "metadata": {},
   "outputs": [
    {
     "name": "stdout",
     "output_type": "stream",
     "text": [
      "True\n",
      "CPU times: user 2.94 s, sys: 32 ms, total: 2.97 s\n",
      "Wall time: 2.95 s\n",
      "True\n",
      "CPU times: user 719 ms, sys: 15 ms, total: 734 ms\n",
      "Wall time: 523 ms\n"
     ]
    }
   ],
   "source": [
    "%time print(bool(d==1))\n",
    "%time print(bool(d.simplify_trig()==1))"
   ]
  },
  {
   "cell_type": "markdown",
   "metadata": {},
   "source": [
    "### Pas toujours de solutions"
   ]
  },
  {
   "cell_type": "code",
   "execution_count": 56,
   "metadata": {},
   "outputs": [
    {
     "data": {
      "text/plain": [
       "[(-I, 1), (I, 1)]"
      ]
     },
     "execution_count": 56,
     "metadata": {},
     "output_type": "execute_result"
    }
   ],
   "source": [
    "var('x')\n",
    "(x^2+1).roots()"
   ]
  },
  {
   "cell_type": "code",
   "execution_count": 59,
   "metadata": {},
   "outputs": [
    {
     "name": "stdout",
     "output_type": "stream",
     "text": [
      "E=(x + 1)^5 - (x + 2)^4\n",
      "F=(x + 1)^5 + (x + 2)^4\n",
      "EF=((x + 1)^5 + (x + 2)^4)*((x + 1)^5 - (x + 2)^4)\n"
     ]
    },
    {
     "data": {
      "text/plain": [
       "[(-1/6*(1/2)^(1/3)*(3*sqrt(23)*sqrt(3) + 97)^(1/3)*(I*sqrt(3) + 1) - 13/3*(1/2)^(2/3)*(-I*sqrt(3) + 1)/(3*sqrt(23)*sqrt(3) + 97)^(1/3) - 1/3,\n",
       "  1),\n",
       " (-1/6*(1/2)^(1/3)*(3*sqrt(23)*sqrt(3) + 97)^(1/3)*(-I*sqrt(3) + 1) - 13/3*(1/2)^(2/3)*(I*sqrt(3) + 1)/(3*sqrt(23)*sqrt(3) + 97)^(1/3) - 1/3,\n",
       "  1),\n",
       " (1/3*(1/2)^(1/3)*(3*sqrt(23)*sqrt(3) + 97)^(1/3) + 26/3*(1/2)^(2/3)/(3*sqrt(23)*sqrt(3) + 97)^(1/3) - 1/3,\n",
       "  1),\n",
       " (-1/2*I*sqrt(3) - 3/2, 1),\n",
       " (1/2*I*sqrt(3) - 3/2, 1)]"
      ]
     },
     "execution_count": 59,
     "metadata": {},
     "output_type": "execute_result"
    }
   ],
   "source": [
    "E= (x+1)^5 - (x+2)^4\n",
    "F= (x+1)^5 + (x+2)^4\n",
    "EF=E*F\n",
    "print(f\"E={E}\\nF={F}\\nEF={EF}\")\n",
    "EF.roots(x)"
   ]
  },
  {
   "cell_type": "code",
   "execution_count": 61,
   "metadata": {},
   "outputs": [
    {
     "name": "stdout",
     "output_type": "stream",
     "text": [
      "E=(x + 1)^10 - (x + 2)^9\n",
      "F=(x + 1)^10 + (x + 2)^9\n",
      "EF=((x + 1)^10 + (x + 2)^9)*((x + 1)^10 - (x + 2)^9)\n"
     ]
    },
    {
     "ename": "RuntimeError",
     "evalue": "no explicit roots found",
     "output_type": "error",
     "traceback": [
      "\u001b[0;31m---------------------------------------------------------------------------\u001b[0m",
      "\u001b[0;31mRuntimeError\u001b[0m                              Traceback (most recent call last)",
      "\u001b[0;32m<ipython-input-61-098ea99795ee>\u001b[0m in \u001b[0;36m<module>\u001b[0;34m\u001b[0m\n\u001b[1;32m      3\u001b[0m \u001b[0mEF\u001b[0m\u001b[0;34m=\u001b[0m\u001b[0mE\u001b[0m\u001b[0;34m*\u001b[0m\u001b[0mF\u001b[0m\u001b[0;34m\u001b[0m\u001b[0;34m\u001b[0m\u001b[0m\n\u001b[1;32m      4\u001b[0m \u001b[0mprint\u001b[0m\u001b[0;34m(\u001b[0m\u001b[0;34mf\"E={E}\\nF={F}\\nEF={EF}\"\u001b[0m\u001b[0;34m)\u001b[0m\u001b[0;34m\u001b[0m\u001b[0;34m\u001b[0m\u001b[0m\n\u001b[0;32m----> 5\u001b[0;31m \u001b[0mEF\u001b[0m\u001b[0;34m.\u001b[0m\u001b[0mroots\u001b[0m\u001b[0;34m(\u001b[0m\u001b[0mx\u001b[0m\u001b[0;34m)\u001b[0m \u001b[0;31m## aucunes solution trouvées alors que c'est un polynôme\u001b[0m\u001b[0;34m\u001b[0m\u001b[0;34m\u001b[0m\u001b[0m\n\u001b[0m",
      "\u001b[0;32m/opt/sagemath-9.3/local/lib/python3.7/site-packages/sage/symbolic/expression.pyx\u001b[0m in \u001b[0;36msage.symbolic.expression.Expression.roots (build/cythonized/sage/symbolic/expression.cpp:61688)\u001b[0;34m()\u001b[0m\n\u001b[1;32m  11741\u001b[0m         \u001b[0mS\u001b[0m\u001b[0;34m,\u001b[0m \u001b[0mmul\u001b[0m \u001b[0;34m=\u001b[0m \u001b[0mself\u001b[0m\u001b[0;34m.\u001b[0m\u001b[0msolve\u001b[0m\u001b[0;34m(\u001b[0m\u001b[0mx\u001b[0m\u001b[0;34m,\u001b[0m \u001b[0mmultiplicities\u001b[0m\u001b[0;34m=\u001b[0m\u001b[0;32mTrue\u001b[0m\u001b[0;34m,\u001b[0m \u001b[0mexplicit_solutions\u001b[0m\u001b[0;34m=\u001b[0m\u001b[0mexplicit_solutions\u001b[0m\u001b[0;34m)\u001b[0m\u001b[0;34m\u001b[0m\u001b[0;34m\u001b[0m\u001b[0m\n\u001b[1;32m  11742\u001b[0m         \u001b[0;32mif\u001b[0m \u001b[0mlen\u001b[0m\u001b[0;34m(\u001b[0m\u001b[0mmul\u001b[0m\u001b[0;34m)\u001b[0m \u001b[0;34m==\u001b[0m \u001b[0;36m0\u001b[0m \u001b[0;32mand\u001b[0m \u001b[0mexplicit_solutions\u001b[0m\u001b[0;34m:\u001b[0m\u001b[0;34m\u001b[0m\u001b[0;34m\u001b[0m\u001b[0m\n\u001b[0;32m> 11743\u001b[0;31m             \u001b[0;32mraise\u001b[0m \u001b[0mRuntimeError\u001b[0m\u001b[0;34m(\u001b[0m\u001b[0;34m\"no explicit roots found\"\u001b[0m\u001b[0;34m)\u001b[0m\u001b[0;34m\u001b[0m\u001b[0;34m\u001b[0m\u001b[0m\n\u001b[0m\u001b[1;32m  11744\u001b[0m         \u001b[0;32melse\u001b[0m\u001b[0;34m:\u001b[0m\u001b[0;34m\u001b[0m\u001b[0;34m\u001b[0m\u001b[0m\n\u001b[1;32m  11745\u001b[0m             \u001b[0mrt_muls\u001b[0m \u001b[0;34m=\u001b[0m \u001b[0;34m[\u001b[0m\u001b[0;34m(\u001b[0m\u001b[0mS\u001b[0m\u001b[0;34m[\u001b[0m\u001b[0mi\u001b[0m\u001b[0;34m]\u001b[0m\u001b[0;34m.\u001b[0m\u001b[0mrhs\u001b[0m\u001b[0;34m(\u001b[0m\u001b[0;34m)\u001b[0m\u001b[0;34m,\u001b[0m \u001b[0mmul\u001b[0m\u001b[0;34m[\u001b[0m\u001b[0mi\u001b[0m\u001b[0;34m]\u001b[0m\u001b[0;34m)\u001b[0m \u001b[0;32mfor\u001b[0m \u001b[0mi\u001b[0m \u001b[0;32min\u001b[0m \u001b[0mrange\u001b[0m\u001b[0;34m(\u001b[0m\u001b[0mlen\u001b[0m\u001b[0;34m(\u001b[0m\u001b[0mmul\u001b[0m\u001b[0;34m)\u001b[0m\u001b[0;34m)\u001b[0m\u001b[0;34m]\u001b[0m\u001b[0;34m\u001b[0m\u001b[0;34m\u001b[0m\u001b[0m\n",
      "\u001b[0;31mRuntimeError\u001b[0m: no explicit roots found"
     ]
    }
   ],
   "source": [
    "E= (x+1)^10 - (x+2)^9\n",
    "F= (x+1)^10 + (x+2)^9\n",
    "EF=E*F\n",
    "print(f\"E={E}\\nF={F}\\nEF={EF}\")\n",
    "EF.roots(x) ## aucunes solution trouvées alors que c'est un polynôme"
   ]
  },
  {
   "cell_type": "markdown",
   "metadata": {},
   "source": [
    "Pour résoudre on passe du calcul symbolique au calcul algébrique.\n",
    "\n",
    "Pour cela on se place dans la structure mathématique des polynomes qui sont des expressions symboliques ayant de bonne propriétés: en particulier une représentation canonique !!!\n",
    "\n",
    "Un polynôme est une expression de la forme : $a_0+a_1X+\\dots+a_nX^n$ avec $n$ une valeur connue et les coefficients $\\{a_0,a_1,\\dots,a_n\\}$ qui sont tous du même type (Entier, Rationnel, Complexe, ...).\n",
    "\n",
    "$\\Rightarrow$ le vecteur $[a_0,a_1,\\dots,a_n]$ est une représentation canonique de ce polynôme."
   ]
  },
  {
   "cell_type": "code",
   "execution_count": 62,
   "metadata": {},
   "outputs": [
    {
     "name": "stdout",
     "output_type": "stream",
     "text": [
      "type de x:  Symbolic Ring\n",
      "type de X:  Univariate Polynomial Ring in X over Rational Field\n"
     ]
    },
    {
     "data": {
      "text/plain": [
       "False"
      ]
     },
     "execution_count": 62,
     "metadata": {},
     "output_type": "execute_result"
    }
   ],
   "source": [
    "# Ensemble des polynomes à coefficient dans QQ\n",
    "# on choisit la variable X comme symbole des polynômes\n",
    "PR.<X>=PolynomialRing(QQ) #ou PR.<X>=QQ[]\n",
    "\n",
    "print(\"type de x: \",x.parent())\n",
    "print(\"type de X: \",X.parent())\n",
    "bool(X==x)"
   ]
  },
  {
   "cell_type": "code",
   "execution_count": 63,
   "metadata": {},
   "outputs": [
    {
     "name": "stdout",
     "output_type": "stream",
     "text": [
      "Univariate Polynomial Ring in X over Rational Field\n",
      "Symbolic Ring\n",
      "Symbolic Ring\n",
      "Univariate Polynomial Ring in X over Real Field with 53 bits of precision\n"
     ]
    },
    {
     "data": {
      "text/plain": [
       "Real Field with 53 bits of precision"
      ]
     },
     "execution_count": 63,
     "metadata": {},
     "output_type": "execute_result"
    }
   ],
   "source": [
    "print((2*X+4).parent()) \n",
    "print((2*x+4).parent()) \n",
    "print((2*X+ cos(3)).parent())\n",
    "print((2*X+0.5).parent()) # attention coercion vers les polynomes à coefficient dans RR\n",
    "RR"
   ]
  },
  {
   "cell_type": "code",
   "execution_count": 65,
   "metadata": {},
   "outputs": [
    {
     "data": {
      "text/html": [
       "une expression symbolique: E=(x + 1)^10 - (x + 2)^9"
      ],
      "text/plain": [
       "'une expression symbolique: E=(x + 1)^10 - (x + 2)^9'"
      ]
     },
     "metadata": {},
     "output_type": "display_data"
    },
    {
     "data": {
      "text/html": [
       "un polynomes: polyE=X^10 + 9*X^9 + 27*X^8 - 24*X^7 - 462*X^6 - 1764*X^5 - 3822*X^4 - 5256*X^3 - 4563*X^2 - 2294*X - 511"
      ],
      "text/plain": [
       "'un polynomes: polyE=X^10 + 9*X^9 + 27*X^8 - 24*X^7 - 462*X^6 - 1764*X^5 - 3822*X^4 - 5256*X^3 - 4563*X^2 - 2294*X - 511'"
      ]
     },
     "metadata": {},
     "output_type": "display_data"
    }
   ],
   "source": [
    "# on convertit les expressions symboliques vers les polynomes en substituant \n",
    "# la variable x par celle des polynômes en X et en construisant le polynôme associé\n",
    "polyE=PR(E.subs(x=X)) \n",
    "polyF=PR(F.subs(x=X))\n",
    "polyEF=polyE*polyF\n",
    "show(f\"une expression symbolique: E={E}\")\n",
    "show(f\"un polynomes: polyE={polyE}\")\n"
   ]
  },
  {
   "cell_type": "code",
   "execution_count": 66,
   "metadata": {},
   "outputs": [
    {
     "name": "stdout",
     "output_type": "stream",
     "text": [
      "calcul des racines sur Rational Field\n"
     ]
    },
    {
     "data": {
      "text/plain": [
       "[]"
      ]
     },
     "execution_count": 66,
     "metadata": {},
     "output_type": "execute_result"
    }
   ],
   "source": [
    "# calcul des racines dans le domaine de définition du polynome (ici Q)\n",
    "print(f\"calcul des racines sur {polyEF.base_ring()}\")\n",
    "polyEF.roots()"
   ]
  },
  {
   "cell_type": "code",
   "execution_count": 67,
   "metadata": {},
   "outputs": [
    {
     "data": {
      "text/plain": [
       "[(-1.51825014565097, 1),\n",
       " (4.06351076609262, 1),\n",
       " (-1.51929008466337 - 0.389595992999977*I, 1),\n",
       " (-1.51929008466337 + 0.389595992999977*I, 1),\n",
       " (-1.51922405950470 - 0.270825166290452*I, 1),\n",
       " (-1.51922405950470 + 0.270825166290452*I, 1),\n",
       " (-1.51876244356380 - 0.171773267885010*I, 1),\n",
       " (-1.51876244356380 + 0.171773267885010*I, 1),\n",
       " (-1.51838700372900 - 0.0834870580994881*I, 1),\n",
       " (-1.51838700372900 + 0.0834870580994881*I, 1),\n",
       " (-1.51739709419704 - 0.543838798817926*I, 1),\n",
       " (-1.51739709419704 + 0.543838798817926*I, 1),\n",
       " (-1.50785565319868 - 0.765883493953419*I, 1),\n",
       " (-1.50785565319868 + 0.765883493953419*I, 1),\n",
       " (-1.46510584891600 - 1.13480030613066*I, 1),\n",
       " (-1.46510584891600 + 1.13480030613066*I, 1),\n",
       " (-1.22672212879498 - 1.87991770546555*I, 1),\n",
       " (-1.22672212879498 + 1.87991770546555*I, 1),\n",
       " (0.520114006346739 - 3.18892454790237*I, 1),\n",
       " (0.520114006346739 + 3.18892454790237*I, 1)]"
      ]
     },
     "execution_count": 67,
     "metadata": {},
     "output_type": "execute_result"
    }
   ],
   "source": [
    "# calcul des racines dans C\n",
    "R=polyEF.roots(CC)\n",
    "R"
   ]
  },
  {
   "cell_type": "code",
   "execution_count": 70,
   "metadata": {},
   "outputs": [
    {
     "data": {
      "text/plain": [
       "(-1.51825014565097, -9.48784872889519e-9)"
      ]
     },
     "execution_count": 70,
     "metadata": {},
     "output_type": "execute_result"
    }
   ],
   "source": [
    "R[0][0],polyEF(R[0][0])"
   ]
  },
  {
   "cell_type": "code",
   "execution_count": 71,
   "metadata": {},
   "outputs": [
    {
     "data": {
      "text/plain": [
       "6.3057198351756937881873e-16"
      ]
     },
     "execution_count": 71,
     "metadata": {},
     "output_type": "execute_result"
    }
   ],
   "source": [
    "polyEF(ComplexField(80)(R[0][0]))"
   ]
  },
  {
   "cell_type": "code",
   "execution_count": 72,
   "metadata": {},
   "outputs": [
    {
     "name": "stdout",
     "output_type": "stream",
     "text": [
      "CPU times: user 16 ms, sys: 0 ns, total: 16 ms\n",
      "Wall time: 10.8 ms\n",
      "CPU times: user 0 ns, sys: 0 ns, total: 0 ns\n",
      "Wall time: 11.4 µs\n"
     ]
    }
   ],
   "source": [
    "# calcul de la forme canonique d'un produit de polynômes\n",
    "E1= (x+1)^100 - (x+2)^99\n",
    "F1= (x+1)^100 + (x+2)^99\n",
    "polyE1=PR(E.subs(x=X)) \n",
    "polyF1=PR(F.subs(x=X))\n",
    "\n",
    "# via la representation par arbre (exp symbolique)\n",
    "%time (E1*F1).expand() \n",
    "# via la representation par liste des coefficients\n",
    "%time polyEF1=polyE1*polyF1 "
   ]
  },
  {
   "cell_type": "markdown",
   "metadata": {},
   "source": [
    "**A RETENIR**\n",
    "- le calcul symbolique permet de manipuler n'importe quelles expressions faisant intervenir des symboles et des fonctions \n",
    "- pas toujours possible de trouver des solutions avec uniquement des calculs symboliques\n",
    "- l'utilisation de calcul algèbrique est souvent préférable si on connaît la structure mathématique sous-jacente (Ex. les polynômes, les matrices, ...)\n",
    "- le calcul algébrique sera la plupart du temps plus rapide\n",
    "- parfois on retrouve un mélange de calcul algébrique et numérique (résolution dans les complexes si le problème est défini sur les nombres rationnels)"
   ]
  },
  {
   "cell_type": "markdown",
   "metadata": {},
   "source": [
    "## Les matrices"
   ]
  },
  {
   "cell_type": "code",
   "execution_count": 77,
   "metadata": {},
   "outputs": [
    {
     "name": "stdout",
     "output_type": "stream",
     "text": [
      "[1 2]\n",
      "[3 4]\n",
      "[1 2 3]\n",
      "[4 5 6]\n"
     ]
    },
    {
     "data": {
      "text/html": [
       "<html><script type=\"math/tex; mode=display\">\\newcommand{\\Bold}[1]{\\mathbf{#1}}\\left(\\begin{array}{rr}\n",
       "1 & 2 \\\\\n",
       "3 & 4\n",
       "\\end{array}\\right) \\left(\\begin{array}{rrr}\n",
       "1 & 2 & 3 \\\\\n",
       "4 & 5 & 6\n",
       "\\end{array}\\right)</script></html>"
      ],
      "text/latex": [
       "$$\\newcommand{\\Bold}[1]{\\mathbf{#1}}\\left(\\begin{array}{rr}\n",
       "1 & 2 \\\\\n",
       "3 & 4\n",
       "\\end{array}\\right) \\left(\\begin{array}{rrr}\n",
       "1 & 2 & 3 \\\\\n",
       "4 & 5 & 6\n",
       "\\end{array}\\right)$$"
      ],
      "text/plain": [
       "[1 2]\n",
       "[3 4] [1 2 3]\n",
       "[4 5 6]"
      ]
     },
     "metadata": {},
     "output_type": "display_data"
    }
   ],
   "source": [
    "A=matrix([[1,2],[3,4]])\n",
    "B=matrix([[1,2,3],[4,5,6]])\n",
    "print(A,B, sep='\\n')\n",
    "show(A,B)"
   ]
  },
  {
   "cell_type": "code",
   "execution_count": 78,
   "metadata": {},
   "outputs": [
    {
     "data": {
      "text/html": [
       "<html><script type=\"math/tex; mode=display\">\\newcommand{\\Bold}[1]{\\mathbf{#1}}\\left(\\begin{array}{rr}\n",
       "2 & 4 \\\\\n",
       "6 & 8\n",
       "\\end{array}\\right)</script></html>"
      ],
      "text/latex": [
       "$$\\newcommand{\\Bold}[1]{\\mathbf{#1}}\\left(\\begin{array}{rr}\n",
       "2 & 4 \\\\\n",
       "6 & 8\n",
       "\\end{array}\\right)$$"
      ],
      "text/plain": [
       "[2 4]\n",
       "[6 8]"
      ]
     },
     "metadata": {},
     "output_type": "display_data"
    },
    {
     "data": {
      "text/html": [
       "<html><script type=\"math/tex; mode=display\">\\newcommand{\\Bold}[1]{\\mathbf{#1}}\\left(\\begin{array}{rr}\n",
       "3 & 6 \\\\\n",
       "9 & 12\n",
       "\\end{array}\\right) \\left(\\begin{array}{rr}\n",
       "3 & 6 \\\\\n",
       "9 & 12\n",
       "\\end{array}\\right)</script></html>"
      ],
      "text/latex": [
       "$$\\newcommand{\\Bold}[1]{\\mathbf{#1}}\\left(\\begin{array}{rr}\n",
       "3 & 6 \\\\\n",
       "9 & 12\n",
       "\\end{array}\\right) \\left(\\begin{array}{rr}\n",
       "3 & 6 \\\\\n",
       "9 & 12\n",
       "\\end{array}\\right)$$"
      ],
      "text/plain": [
       "[ 3  6]\n",
       "[ 9 12] [ 3  6]\n",
       "[ 9 12]"
      ]
     },
     "metadata": {},
     "output_type": "display_data"
    },
    {
     "name": "stdout",
     "output_type": "stream",
     "text": [
      "[ 3  6]\n",
      "[ 9 12]\n",
      "[ 3  6]\n",
      "[ 9 12]\n"
     ]
    }
   ],
   "source": [
    "# addition de matrice\n",
    "show(A+A)\n",
    "# multiplication par un scalaire\n",
    "show(3*A , A+A+A)\n",
    "print(3*A , A+A+A, sep='\\n')"
   ]
  },
  {
   "cell_type": "code",
   "execution_count": 79,
   "metadata": {},
   "outputs": [
    {
     "data": {
      "text/html": [
       "<html><script type=\"math/tex; mode=display\">\\newcommand{\\Bold}[1]{\\mathbf{#1}}\\verb|A=| \\left(\\begin{array}{rr}\n",
       "1 & 2 \\\\\n",
       "3 & 4\n",
       "\\end{array}\\right)</script></html>"
      ],
      "text/latex": [
       "$$\\newcommand{\\Bold}[1]{\\mathbf{#1}}\\verb|A=| \\left(\\begin{array}{rr}\n",
       "1 & 2 \\\\\n",
       "3 & 4\n",
       "\\end{array}\\right)$$"
      ],
      "text/plain": [
       "'A=' [1 2]\n",
       "[3 4]"
      ]
     },
     "metadata": {},
     "output_type": "display_data"
    },
    {
     "data": {
      "text/html": [
       "<html><script type=\"math/tex; mode=display\">\\newcommand{\\Bold}[1]{\\mathbf{#1}}\\verb|B=| \\left(\\begin{array}{rrr}\n",
       "1 & 2 & 3 \\\\\n",
       "4 & 5 & 6\n",
       "\\end{array}\\right)</script></html>"
      ],
      "text/latex": [
       "$$\\newcommand{\\Bold}[1]{\\mathbf{#1}}\\verb|B=| \\left(\\begin{array}{rrr}\n",
       "1 & 2 & 3 \\\\\n",
       "4 & 5 & 6\n",
       "\\end{array}\\right)$$"
      ],
      "text/plain": [
       "'B=' [1 2 3]\n",
       "[4 5 6]"
      ]
     },
     "metadata": {},
     "output_type": "display_data"
    },
    {
     "ename": "TypeError",
     "evalue": "unsupported operand parent(s) for +: 'Full MatrixSpace of 2 by 2 dense matrices over Integer Ring' and 'Full MatrixSpace of 2 by 3 dense matrices over Integer Ring'",
     "output_type": "error",
     "traceback": [
      "\u001b[0;31m---------------------------------------------------------------------------\u001b[0m",
      "\u001b[0;31mTypeError\u001b[0m                                 Traceback (most recent call last)",
      "\u001b[0;32m<ipython-input-79-a31cdf804f02>\u001b[0m in \u001b[0;36m<module>\u001b[0;34m\u001b[0m\n\u001b[1;32m      2\u001b[0m \u001b[0mshow\u001b[0m\u001b[0;34m(\u001b[0m\u001b[0;34m\"B=\"\u001b[0m\u001b[0;34m,\u001b[0m\u001b[0mB\u001b[0m\u001b[0;34m)\u001b[0m\u001b[0;34m\u001b[0m\u001b[0;34m\u001b[0m\u001b[0m\n\u001b[1;32m      3\u001b[0m \u001b[0;34m\u001b[0m\u001b[0m\n\u001b[0;32m----> 4\u001b[0;31m \u001b[0mA\u001b[0m\u001b[0;34m+\u001b[0m\u001b[0mB\u001b[0m\u001b[0;34m\u001b[0m\u001b[0;34m\u001b[0m\u001b[0m\n\u001b[0m",
      "\u001b[0;32m/opt/sagemath-9.3/local/lib/python3.7/site-packages/sage/structure/element.pyx\u001b[0m in \u001b[0;36msage.structure.element.Element.__add__ (build/cythonized/sage/structure/element.c:10989)\u001b[0;34m()\u001b[0m\n\u001b[1;32m   1230\u001b[0m         \u001b[0;31m# Left and right are Sage elements => use coercion model\u001b[0m\u001b[0;34m\u001b[0m\u001b[0;34m\u001b[0m\u001b[0;34m\u001b[0m\u001b[0m\n\u001b[1;32m   1231\u001b[0m         \u001b[0;32mif\u001b[0m \u001b[0mBOTH_ARE_ELEMENT\u001b[0m\u001b[0;34m(\u001b[0m\u001b[0mcl\u001b[0m\u001b[0;34m)\u001b[0m\u001b[0;34m:\u001b[0m\u001b[0;34m\u001b[0m\u001b[0;34m\u001b[0m\u001b[0m\n\u001b[0;32m-> 1232\u001b[0;31m             \u001b[0;32mreturn\u001b[0m \u001b[0mcoercion_model\u001b[0m\u001b[0;34m.\u001b[0m\u001b[0mbin_op\u001b[0m\u001b[0;34m(\u001b[0m\u001b[0mleft\u001b[0m\u001b[0;34m,\u001b[0m \u001b[0mright\u001b[0m\u001b[0;34m,\u001b[0m \u001b[0madd\u001b[0m\u001b[0;34m)\u001b[0m\u001b[0;34m\u001b[0m\u001b[0;34m\u001b[0m\u001b[0m\n\u001b[0m\u001b[1;32m   1233\u001b[0m \u001b[0;34m\u001b[0m\u001b[0m\n\u001b[1;32m   1234\u001b[0m         \u001b[0mcdef\u001b[0m \u001b[0mlong\u001b[0m \u001b[0mvalue\u001b[0m\u001b[0;34m\u001b[0m\u001b[0;34m\u001b[0m\u001b[0m\n",
      "\u001b[0;32m/opt/sagemath-9.3/local/lib/python3.7/site-packages/sage/structure/coerce.pyx\u001b[0m in \u001b[0;36msage.structure.coerce.CoercionModel.bin_op (build/cythonized/sage/structure/coerce.c:11708)\u001b[0;34m()\u001b[0m\n\u001b[1;32m   1246\u001b[0m         \u001b[0;31m# We should really include the underlying error.\u001b[0m\u001b[0;34m\u001b[0m\u001b[0;34m\u001b[0m\u001b[0;34m\u001b[0m\u001b[0m\n\u001b[1;32m   1247\u001b[0m         \u001b[0;31m# This causes so much headache.\u001b[0m\u001b[0;34m\u001b[0m\u001b[0;34m\u001b[0m\u001b[0;34m\u001b[0m\u001b[0m\n\u001b[0;32m-> 1248\u001b[0;31m         \u001b[0;32mraise\u001b[0m \u001b[0mbin_op_exception\u001b[0m\u001b[0;34m(\u001b[0m\u001b[0mop\u001b[0m\u001b[0;34m,\u001b[0m \u001b[0mx\u001b[0m\u001b[0;34m,\u001b[0m \u001b[0my\u001b[0m\u001b[0;34m)\u001b[0m\u001b[0;34m\u001b[0m\u001b[0;34m\u001b[0m\u001b[0m\n\u001b[0m\u001b[1;32m   1249\u001b[0m \u001b[0;34m\u001b[0m\u001b[0m\n\u001b[1;32m   1250\u001b[0m     \u001b[0mcpdef\u001b[0m \u001b[0mcanonical_coercion\u001b[0m\u001b[0;34m(\u001b[0m\u001b[0mself\u001b[0m\u001b[0;34m,\u001b[0m \u001b[0mx\u001b[0m\u001b[0;34m,\u001b[0m \u001b[0my\u001b[0m\u001b[0;34m)\u001b[0m\u001b[0;34m:\u001b[0m\u001b[0;34m\u001b[0m\u001b[0;34m\u001b[0m\u001b[0m\n",
      "\u001b[0;31mTypeError\u001b[0m: unsupported operand parent(s) for +: 'Full MatrixSpace of 2 by 2 dense matrices over Integer Ring' and 'Full MatrixSpace of 2 by 3 dense matrices over Integer Ring'"
     ]
    }
   ],
   "source": [
    "show(\"A=\",A)\n",
    "show(\"B=\",B)\n",
    "\n",
    "A+B"
   ]
  },
  {
   "cell_type": "markdown",
   "metadata": {},
   "source": [
    "### matrices et combinaisons linéaires"
   ]
  },
  {
   "cell_type": "code",
   "execution_count": 80,
   "metadata": {},
   "outputs": [
    {
     "data": {
      "text/plain": [
       "3*x + 2*y + 5*z"
      ]
     },
     "execution_count": 80,
     "metadata": {},
     "output_type": "execute_result"
    }
   ],
   "source": [
    "# une combinaison linéaire de symboles\n",
    "var('x y z')\n",
    "e=[x,y,z]\n",
    "3*e[0]+2*e[1]+5*e[2]"
   ]
  },
  {
   "cell_type": "code",
   "execution_count": 82,
   "metadata": {},
   "outputs": [
    {
     "data": {
      "text/html": [
       "<html><script type=\"math/tex; mode=display\">\\newcommand{\\Bold}[1]{\\mathbf{#1}}\\left(\\begin{array}{rrr}\n",
       "1 & 2 & 3\n",
       "\\end{array}\\right) \\left(\\begin{array}{r}\n",
       "x \\\\\n",
       "y \\\\\n",
       "z\n",
       "\\end{array}\\right)</script></html>"
      ],
      "text/latex": [
       "$$\\newcommand{\\Bold}[1]{\\mathbf{#1}}\\left(\\begin{array}{rrr}\n",
       "1 & 2 & 3\n",
       "\\end{array}\\right) \\left(\\begin{array}{r}\n",
       "x \\\\\n",
       "y \\\\\n",
       "z\n",
       "\\end{array}\\right)$$"
      ],
      "text/plain": [
       "[1 2 3] [x]\n",
       "[y]\n",
       "[z]"
      ]
     },
     "metadata": {},
     "output_type": "display_data"
    },
    {
     "name": "stdout",
     "output_type": "stream",
     "text": [
      "[1 2 3]\n",
      "[x]\n",
      "[y]\n",
      "[z]\n"
     ]
    }
   ],
   "source": [
    "u=matrix(1,3,[1,2,3])\n",
    "v=matrix(3,1,e)\n",
    "show(u,v)\n",
    "print(u,v, sep='\\n')"
   ]
  },
  {
   "cell_type": "code",
   "execution_count": 86,
   "metadata": {},
   "outputs": [
    {
     "data": {
      "text/plain": [
       "[x + 2*y + 3*z]"
      ]
     },
     "execution_count": 86,
     "metadata": {},
     "output_type": "execute_result"
    }
   ],
   "source": [
    "# le produit de matrice 1*n par n*1 est une combinaison linéaire\n",
    "u*v"
   ]
  },
  {
   "cell_type": "code",
   "execution_count": null,
   "metadata": {},
   "outputs": [],
   "source": []
  },
  {
   "cell_type": "code",
   "execution_count": 89,
   "metadata": {},
   "outputs": [
    {
     "data": {
      "text/html": [
       "<html><script type=\"math/tex; mode=display\">\\newcommand{\\Bold}[1]{\\mathbf{#1}}\\left(\\begin{array}{rrr}\n",
       "1 & 2 & 3 \\\\\n",
       "4 & 5 & 6\n",
       "\\end{array}\\right) \\left(\\begin{array}{r}\n",
       "x \\\\\n",
       "y \\\\\n",
       "z\n",
       "\\end{array}\\right)</script></html>"
      ],
      "text/latex": [
       "$$\\newcommand{\\Bold}[1]{\\mathbf{#1}}\\left(\\begin{array}{rrr}\n",
       "1 & 2 & 3 \\\\\n",
       "4 & 5 & 6\n",
       "\\end{array}\\right) \\left(\\begin{array}{r}\n",
       "x \\\\\n",
       "y \\\\\n",
       "z\n",
       "\\end{array}\\right)$$"
      ],
      "text/plain": [
       "[1 2 3]\n",
       "[4 5 6] [x]\n",
       "[y]\n",
       "[z]"
      ]
     },
     "metadata": {},
     "output_type": "display_data"
    },
    {
     "name": "stdout",
     "output_type": "stream",
     "text": [
      "[1 2 3]\n",
      "[4 5 6]\n",
      "[x]\n",
      "[y]\n",
      "[z]\n"
     ]
    },
    {
     "data": {
      "text/html": [
       "<html><script type=\"math/tex; mode=display\">\\newcommand{\\Bold}[1]{\\mathbf{#1}}\\left(\\begin{array}{r}\n",
       "x + 2 \\, y + 3 \\, z \\\\\n",
       "4 \\, x + 5 \\, y + 6 \\, z\n",
       "\\end{array}\\right)</script></html>"
      ],
      "text/latex": [
       "$$\\newcommand{\\Bold}[1]{\\mathbf{#1}}\\left(\\begin{array}{r}\n",
       "x + 2 \\, y + 3 \\, z \\\\\n",
       "4 \\, x + 5 \\, y + 6 \\, z\n",
       "\\end{array}\\right)$$"
      ],
      "text/plain": [
       "[  x + 2*y + 3*z]\n",
       "[4*x + 5*y + 6*z]"
      ]
     },
     "metadata": {},
     "output_type": "display_data"
    }
   ],
   "source": [
    "# on peut augmenter le nombre de combinaisons linéaires (on ajoute une ligne à gauche)\n",
    "B=matrix(2,3,[\n",
    "    1,2,3,\n",
    "    4,5,6\n",
    "    ])\n",
    "show(B,v)\n",
    "print(B,v, sep='\\n')\n",
    "show(B*v)"
   ]
  },
  {
   "cell_type": "code",
   "execution_count": 94,
   "metadata": {},
   "outputs": [
    {
     "data": {
      "text/html": [
       "<html><script type=\"math/tex; mode=display\">\\newcommand{\\Bold}[1]{\\mathbf{#1}}\\left(\\begin{array}{rr}\n",
       "x & a \\\\\n",
       "y & b \\\\\n",
       "z & c\n",
       "\\end{array}\\right)</script></html>"
      ],
      "text/latex": [
       "$$\\newcommand{\\Bold}[1]{\\mathbf{#1}}\\left(\\begin{array}{rr}\n",
       "x & a \\\\\n",
       "y & b \\\\\n",
       "z & c\n",
       "\\end{array}\\right)$$"
      ],
      "text/plain": [
       "[x a]\n",
       "[y b]\n",
       "[z c]"
      ]
     },
     "metadata": {},
     "output_type": "display_data"
    },
    {
     "data": {
      "text/html": [
       "<html><script type=\"math/tex; mode=display\">\\newcommand{\\Bold}[1]{\\mathbf{#1}}\\left(\\begin{array}{rr}\n",
       "x + 2 \\, y + 3 \\, z & a + 2 \\, b + 3 \\, c \\\\\n",
       "4 \\, x + 5 \\, y + 6 \\, z & 4 \\, a + 5 \\, b + 6 \\, c\n",
       "\\end{array}\\right)</script></html>"
      ],
      "text/latex": [
       "$$\\newcommand{\\Bold}[1]{\\mathbf{#1}}\\left(\\begin{array}{rr}\n",
       "x + 2 \\, y + 3 \\, z & a + 2 \\, b + 3 \\, c \\\\\n",
       "4 \\, x + 5 \\, y + 6 \\, z & 4 \\, a + 5 \\, b + 6 \\, c\n",
       "\\end{array}\\right)$$"
      ],
      "text/plain": [
       "[  x + 2*y + 3*z   a + 2*b + 3*c]\n",
       "[4*x + 5*y + 6*z 4*a + 5*b + 6*c]"
      ]
     },
     "metadata": {},
     "output_type": "display_data"
    }
   ],
   "source": [
    "# on peut augmenter le nombre de combinaisons linéaires (on ajoute une colonne à droite)\n",
    "var('x,y,z,a,b,c')\n",
    "V=matrix(3,2,[\n",
    "    x,a,\n",
    "    y,b,\n",
    "    z,c\n",
    "    ])\n",
    "show(V)\n",
    "show(B*V)"
   ]
  },
  {
   "cell_type": "code",
   "execution_count": 99,
   "metadata": {},
   "outputs": [
    {
     "data": {
      "text/html": [
       "<html><script type=\"math/tex; mode=display\">\\newcommand{\\Bold}[1]{\\mathbf{#1}}\\left(\\begin{array}{rr}\n",
       "x & a \\\\\n",
       "y & b \\\\\n",
       "z & c\n",
       "\\end{array}\\right)</script></html>"
      ],
      "text/latex": [
       "$$\\newcommand{\\Bold}[1]{\\mathbf{#1}}\\left(\\begin{array}{rr}\n",
       "x & a \\\\\n",
       "y & b \\\\\n",
       "z & c\n",
       "\\end{array}\\right)$$"
      ],
      "text/plain": [
       "[x a]\n",
       "[y b]\n",
       "[z c]"
      ]
     },
     "metadata": {},
     "output_type": "display_data"
    },
    {
     "ename": "TypeError",
     "evalue": "unsupported operand parent(s) for *: 'Full MatrixSpace of 3 by 2 dense matrices over Symbolic Ring' and 'Full MatrixSpace of 3 by 2 dense matrices over Symbolic Ring'",
     "output_type": "error",
     "traceback": [
      "\u001b[0;31m---------------------------------------------------------------------------\u001b[0m",
      "\u001b[0;31mTypeError\u001b[0m                                 Traceback (most recent call last)",
      "\u001b[0;32m<ipython-input-99-c1f2d01c1e38>\u001b[0m in \u001b[0;36m<module>\u001b[0;34m\u001b[0m\n\u001b[1;32m      1\u001b[0m \u001b[0;31m# ATTENTION: les tailles des matrices doivent correspondre\u001b[0m\u001b[0;34m\u001b[0m\u001b[0;34m\u001b[0m\u001b[0;34m\u001b[0m\u001b[0m\n\u001b[1;32m      2\u001b[0m \u001b[0mshow\u001b[0m\u001b[0;34m(\u001b[0m\u001b[0mV\u001b[0m\u001b[0;34m)\u001b[0m\u001b[0;34m\u001b[0m\u001b[0;34m\u001b[0m\u001b[0m\n\u001b[0;32m----> 3\u001b[0;31m \u001b[0mV\u001b[0m\u001b[0;34m*\u001b[0m\u001b[0mV\u001b[0m\u001b[0;34m\u001b[0m\u001b[0;34m\u001b[0m\u001b[0m\n\u001b[0m",
      "\u001b[0;32m/opt/sagemath-9.3/local/lib/python3.7/site-packages/sage/structure/element.pyx\u001b[0m in \u001b[0;36msage.structure.element.Matrix.__mul__ (build/cythonized/sage/structure/element.c:23916)\u001b[0;34m()\u001b[0m\n\u001b[1;32m   3810\u001b[0m             \u001b[0;32melse\u001b[0m\u001b[0;34m:\u001b[0m\u001b[0;34m\u001b[0m\u001b[0;34m\u001b[0m\u001b[0m\n\u001b[1;32m   3811\u001b[0m                 \u001b[0mparent\u001b[0m \u001b[0;34m=\u001b[0m \u001b[0;34m(\u001b[0m\u001b[0;34m<\u001b[0m\u001b[0mMatrix\u001b[0m\u001b[0;34m>\u001b[0m\u001b[0mleft\u001b[0m\u001b[0;34m)\u001b[0m\u001b[0;34m.\u001b[0m\u001b[0m_parent\u001b[0m\u001b[0;34m\u001b[0m\u001b[0;34m\u001b[0m\u001b[0m\n\u001b[0;32m-> 3812\u001b[0;31m                 \u001b[0;32mraise\u001b[0m \u001b[0mTypeError\u001b[0m\u001b[0;34m(\u001b[0m\u001b[0;34m\"unsupported operand parent(s) for *: '{}' and '{}'\"\u001b[0m\u001b[0;34m.\u001b[0m\u001b[0mformat\u001b[0m\u001b[0;34m(\u001b[0m\u001b[0mparent\u001b[0m\u001b[0;34m,\u001b[0m \u001b[0mparent\u001b[0m\u001b[0;34m)\u001b[0m\u001b[0;34m)\u001b[0m\u001b[0;34m\u001b[0m\u001b[0;34m\u001b[0m\u001b[0m\n\u001b[0m\u001b[1;32m   3813\u001b[0m \u001b[0;34m\u001b[0m\u001b[0m\n\u001b[1;32m   3814\u001b[0m         \u001b[0;32mif\u001b[0m \u001b[0mBOTH_ARE_ELEMENT\u001b[0m\u001b[0;34m(\u001b[0m\u001b[0mcl\u001b[0m\u001b[0;34m)\u001b[0m\u001b[0;34m:\u001b[0m\u001b[0;34m\u001b[0m\u001b[0;34m\u001b[0m\u001b[0m\n",
      "\u001b[0;31mTypeError\u001b[0m: unsupported operand parent(s) for *: 'Full MatrixSpace of 3 by 2 dense matrices over Symbolic Ring' and 'Full MatrixSpace of 3 by 2 dense matrices over Symbolic Ring'"
     ]
    }
   ],
   "source": [
    "# ATTENTION: les tailles des matrices doivent correspondre\n",
    "show(V)\n",
    "V*V"
   ]
  },
  {
   "cell_type": "code",
   "execution_count": 97,
   "metadata": {},
   "outputs": [
    {
     "data": {
      "text/plain": [
       "False"
      ]
     },
     "execution_count": 97,
     "metadata": {},
     "output_type": "execute_result"
    }
   ],
   "source": [
    "# ATTENTION: le produit matriciel n'est pas commutatif\n",
    "bool(V*B==B*V)"
   ]
  },
  {
   "cell_type": "code",
   "execution_count": 102,
   "metadata": {},
   "outputs": [
    {
     "data": {
      "text/html": [
       "<html><script type=\"math/tex; mode=display\">\\newcommand{\\Bold}[1]{\\mathbf{#1}}\\left(\\begin{array}{rrr}\n",
       "4 \\, a + x & 5 \\, a + 2 \\, x & 6 \\, a + 3 \\, x \\\\\n",
       "4 \\, b + y & 5 \\, b + 2 \\, y & 6 \\, b + 3 \\, y \\\\\n",
       "4 \\, c + z & 5 \\, c + 2 \\, z & 6 \\, c + 3 \\, z\n",
       "\\end{array}\\right) \\left(\\begin{array}{rr}\n",
       "x + 2 \\, y + 3 \\, z & a + 2 \\, b + 3 \\, c \\\\\n",
       "4 \\, x + 5 \\, y + 6 \\, z & 4 \\, a + 5 \\, b + 6 \\, c\n",
       "\\end{array}\\right)</script></html>"
      ],
      "text/latex": [
       "$$\\newcommand{\\Bold}[1]{\\mathbf{#1}}\\left(\\begin{array}{rrr}\n",
       "4 \\, a + x & 5 \\, a + 2 \\, x & 6 \\, a + 3 \\, x \\\\\n",
       "4 \\, b + y & 5 \\, b + 2 \\, y & 6 \\, b + 3 \\, y \\\\\n",
       "4 \\, c + z & 5 \\, c + 2 \\, z & 6 \\, c + 3 \\, z\n",
       "\\end{array}\\right) \\left(\\begin{array}{rr}\n",
       "x + 2 \\, y + 3 \\, z & a + 2 \\, b + 3 \\, c \\\\\n",
       "4 \\, x + 5 \\, y + 6 \\, z & 4 \\, a + 5 \\, b + 6 \\, c\n",
       "\\end{array}\\right)$$"
      ],
      "text/plain": [
       "[  4*a + x 5*a + 2*x 6*a + 3*x]\n",
       "[  4*b + y 5*b + 2*y 6*b + 3*y]\n",
       "[  4*c + z 5*c + 2*z 6*c + 3*z] [  x + 2*y + 3*z   a + 2*b + 3*c]\n",
       "[4*x + 5*y + 6*z 4*a + 5*b + 6*c]"
      ]
     },
     "metadata": {},
     "output_type": "display_data"
    },
    {
     "name": "stdout",
     "output_type": "stream",
     "text": [
      "[  4*a + x 5*a + 2*x 6*a + 3*x]\n",
      "[  4*b + y 5*b + 2*y 6*b + 3*y]\n",
      "[  4*c + z 5*c + 2*z 6*c + 3*z]\n",
      "\n",
      "[  x + 2*y + 3*z   a + 2*b + 3*c]\n",
      "[4*x + 5*y + 6*z 4*a + 5*b + 6*c]\n"
     ]
    }
   ],
   "source": [
    "show(V*B,B*V)\n",
    "print(V*B,B*V, sep='\\n\\n')"
   ]
  },
  {
   "cell_type": "code",
   "execution_count": 103,
   "metadata": {},
   "outputs": [
    {
     "data": {
      "text/html": [
       "<html><script type=\"math/tex; mode=display\">\\newcommand{\\Bold}[1]{\\mathbf{#1}}\\left(\\begin{array}{rr}\n",
       "x & a \\\\\n",
       "y & b \\\\\n",
       "z & c\n",
       "\\end{array}\\right)</script></html>"
      ],
      "text/latex": [
       "$$\\newcommand{\\Bold}[1]{\\mathbf{#1}}\\left(\\begin{array}{rr}\n",
       "x & a \\\\\n",
       "y & b \\\\\n",
       "z & c\n",
       "\\end{array}\\right)$$"
      ],
      "text/plain": [
       "[x a]\n",
       "[y b]\n",
       "[z c]"
      ]
     },
     "metadata": {},
     "output_type": "display_data"
    },
    {
     "data": {
      "text/html": [
       "<html><script type=\"math/tex; mode=display\">\\newcommand{\\Bold}[1]{\\mathbf{#1}}\\left(\\begin{array}{rrr}\n",
       "x & y & z \\\\\n",
       "a & b & c\n",
       "\\end{array}\\right)</script></html>"
      ],
      "text/latex": [
       "$$\\newcommand{\\Bold}[1]{\\mathbf{#1}}\\left(\\begin{array}{rrr}\n",
       "x & y & z \\\\\n",
       "a & b & c\n",
       "\\end{array}\\right)$$"
      ],
      "text/plain": [
       "[x y z]\n",
       "[a b c]"
      ]
     },
     "metadata": {},
     "output_type": "display_data"
    }
   ],
   "source": [
    "# On peut transposer une matrice câd intervertir A[i,j] avec A[j,i]\n",
    "show(V)\n",
    "show(V.transpose()) # ou V.T pour la transposition"
   ]
  },
  {
   "cell_type": "code",
   "execution_count": 104,
   "metadata": {},
   "outputs": [
    {
     "data": {
      "text/html": [
       "<html><script type=\"math/tex; mode=display\">\\newcommand{\\Bold}[1]{\\mathbf{#1}}\\left(\\begin{array}{rr}\n",
       "x^{2} + y^{2} + z^{2} & a x + b y + c z \\\\\n",
       "a x + b y + c z & a^{2} + b^{2} + c^{2}\n",
       "\\end{array}\\right)</script></html>"
      ],
      "text/latex": [
       "$$\\newcommand{\\Bold}[1]{\\mathbf{#1}}\\left(\\begin{array}{rr}\n",
       "x^{2} + y^{2} + z^{2} & a x + b y + c z \\\\\n",
       "a x + b y + c z & a^{2} + b^{2} + c^{2}\n",
       "\\end{array}\\right)$$"
      ],
      "text/plain": [
       "[x^2 + y^2 + z^2 a*x + b*y + c*z]\n",
       "[a*x + b*y + c*z a^2 + b^2 + c^2]"
      ]
     },
     "metadata": {},
     "output_type": "display_data"
    },
    {
     "data": {
      "text/html": [
       "<html><script type=\"math/tex; mode=display\">\\newcommand{\\Bold}[1]{\\mathbf{#1}}\\left(\\begin{array}{rrr}\n",
       "a^{2} + x^{2} & a b + x y & a c + x z \\\\\n",
       "a b + x y & b^{2} + y^{2} & b c + y z \\\\\n",
       "a c + x z & b c + y z & c^{2} + z^{2}\n",
       "\\end{array}\\right)</script></html>"
      ],
      "text/latex": [
       "$$\\newcommand{\\Bold}[1]{\\mathbf{#1}}\\left(\\begin{array}{rrr}\n",
       "a^{2} + x^{2} & a b + x y & a c + x z \\\\\n",
       "a b + x y & b^{2} + y^{2} & b c + y z \\\\\n",
       "a c + x z & b c + y z & c^{2} + z^{2}\n",
       "\\end{array}\\right)$$"
      ],
      "text/plain": [
       "[a^2 + x^2 a*b + x*y a*c + x*z]\n",
       "[a*b + x*y b^2 + y^2 b*c + y*z]\n",
       "[a*c + x*z b*c + y*z c^2 + z^2]"
      ]
     },
     "metadata": {},
     "output_type": "display_data"
    }
   ],
   "source": [
    "# le produit d'une matrice par sa transposée est toujours bien défini\n",
    "show(V.transpose()*V)\n",
    "show(V*V.transpose())"
   ]
  },
  {
   "cell_type": "markdown",
   "metadata": {},
   "source": [
    "### Les espaces de matrices"
   ]
  },
  {
   "cell_type": "code",
   "execution_count": 105,
   "metadata": {},
   "outputs": [
    {
     "data": {
      "text/plain": [
       "(Full MatrixSpace of 2 by 2 dense matrices over Integer Ring,\n",
       " Full MatrixSpace of 2 by 2 dense matrices over Real Field with 53 bits of precision,\n",
       " Full MatrixSpace of 2 by 2 dense matrices over Rational Field)"
      ]
     },
     "execution_count": 105,
     "metadata": {},
     "output_type": "execute_result"
    }
   ],
   "source": [
    "# le premier paramètres est le domaine des coefficients (optionnel)\n",
    "# si il est présent il impose le type des coefficients\n",
    "A=matrix([[1,2],[3,4]])\n",
    "B=matrix(RR,[[1,2/3],[3,4]])\n",
    "C=matrix([[1,2/3],[3,4]])\n",
    "A.parent(),B.parent(),C.parent()"
   ]
  },
  {
   "cell_type": "code",
   "execution_count": 106,
   "metadata": {},
   "outputs": [
    {
     "ename": "TypeError",
     "evalue": "no conversion of this rational to integer",
     "output_type": "error",
     "traceback": [
      "\u001b[0;31m---------------------------------------------------------------------------\u001b[0m",
      "\u001b[0;31mTypeError\u001b[0m                                 Traceback (most recent call last)",
      "\u001b[0;32m<ipython-input-106-814958a03ff9>\u001b[0m in \u001b[0;36m<module>\u001b[0;34m\u001b[0m\n\u001b[0;32m----> 1\u001b[0;31m \u001b[0mmatrix\u001b[0m\u001b[0;34m(\u001b[0m\u001b[0mZZ\u001b[0m\u001b[0;34m,\u001b[0m\u001b[0;34m[\u001b[0m\u001b[0;34m[\u001b[0m\u001b[0mInteger\u001b[0m\u001b[0;34m(\u001b[0m\u001b[0;36m1\u001b[0m\u001b[0;34m)\u001b[0m\u001b[0;34m,\u001b[0m\u001b[0mInteger\u001b[0m\u001b[0;34m(\u001b[0m\u001b[0;36m2\u001b[0m\u001b[0;34m)\u001b[0m\u001b[0;34m/\u001b[0m\u001b[0mInteger\u001b[0m\u001b[0;34m(\u001b[0m\u001b[0;36m3\u001b[0m\u001b[0;34m)\u001b[0m\u001b[0;34m]\u001b[0m\u001b[0;34m,\u001b[0m\u001b[0;34m[\u001b[0m\u001b[0mInteger\u001b[0m\u001b[0;34m(\u001b[0m\u001b[0;36m3\u001b[0m\u001b[0;34m)\u001b[0m\u001b[0;34m,\u001b[0m\u001b[0mInteger\u001b[0m\u001b[0;34m(\u001b[0m\u001b[0;36m4\u001b[0m\u001b[0;34m)\u001b[0m\u001b[0;34m]\u001b[0m\u001b[0;34m]\u001b[0m\u001b[0;34m)\u001b[0m\u001b[0;34m\u001b[0m\u001b[0;34m\u001b[0m\u001b[0m\n\u001b[0m",
      "\u001b[0;32m/opt/sagemath-9.3/local/lib/python3.7/site-packages/sage/matrix/constructor.pyx\u001b[0m in \u001b[0;36msage.matrix.constructor.matrix (build/cythonized/sage/matrix/constructor.c:2597)\u001b[0;34m()\u001b[0m\n\u001b[1;32m    641\u001b[0m     \"\"\"\n\u001b[1;32m    642\u001b[0m     \u001b[0mimmutable\u001b[0m \u001b[0;34m=\u001b[0m \u001b[0mkwds\u001b[0m\u001b[0;34m.\u001b[0m\u001b[0mpop\u001b[0m\u001b[0;34m(\u001b[0m\u001b[0;34m'immutable'\u001b[0m\u001b[0;34m,\u001b[0m \u001b[0;32mFalse\u001b[0m\u001b[0;34m)\u001b[0m\u001b[0;34m\u001b[0m\u001b[0;34m\u001b[0m\u001b[0m\n\u001b[0;32m--> 643\u001b[0;31m     \u001b[0mM\u001b[0m \u001b[0;34m=\u001b[0m \u001b[0mMatrixArgs\u001b[0m\u001b[0;34m(\u001b[0m\u001b[0;34m*\u001b[0m\u001b[0margs\u001b[0m\u001b[0;34m,\u001b[0m \u001b[0;34m**\u001b[0m\u001b[0mkwds\u001b[0m\u001b[0;34m)\u001b[0m\u001b[0;34m.\u001b[0m\u001b[0mmatrix\u001b[0m\u001b[0;34m(\u001b[0m\u001b[0;34m)\u001b[0m\u001b[0;34m\u001b[0m\u001b[0;34m\u001b[0m\u001b[0m\n\u001b[0m\u001b[1;32m    644\u001b[0m     \u001b[0;32mif\u001b[0m \u001b[0mimmutable\u001b[0m\u001b[0;34m:\u001b[0m\u001b[0;34m\u001b[0m\u001b[0;34m\u001b[0m\u001b[0m\n\u001b[1;32m    645\u001b[0m         \u001b[0mM\u001b[0m\u001b[0;34m.\u001b[0m\u001b[0mset_immutable\u001b[0m\u001b[0;34m(\u001b[0m\u001b[0;34m)\u001b[0m\u001b[0;34m\u001b[0m\u001b[0;34m\u001b[0m\u001b[0m\n",
      "\u001b[0;32m/opt/sagemath-9.3/local/lib/python3.7/site-packages/sage/matrix/args.pyx\u001b[0m in \u001b[0;36msage.matrix.args.MatrixArgs.matrix (build/cythonized/sage/matrix/args.c:7952)\u001b[0;34m()\u001b[0m\n\u001b[1;32m    663\u001b[0m                     \u001b[0;32mbreak\u001b[0m\u001b[0;34m\u001b[0m\u001b[0;34m\u001b[0m\u001b[0m\n\u001b[1;32m    664\u001b[0m         \u001b[0;32melse\u001b[0m\u001b[0;34m:\u001b[0m\u001b[0;34m\u001b[0m\u001b[0;34m\u001b[0m\u001b[0m\n\u001b[0;32m--> 665\u001b[0;31m             \u001b[0mM\u001b[0m \u001b[0;34m=\u001b[0m \u001b[0mself\u001b[0m\u001b[0;34m.\u001b[0m\u001b[0mspace\u001b[0m\u001b[0;34m(\u001b[0m\u001b[0mself\u001b[0m\u001b[0;34m,\u001b[0m \u001b[0mcoerce\u001b[0m\u001b[0;34m=\u001b[0m\u001b[0mconvert\u001b[0m\u001b[0;34m)\u001b[0m\u001b[0;34m\u001b[0m\u001b[0;34m\u001b[0m\u001b[0m\n\u001b[0m\u001b[1;32m    666\u001b[0m \u001b[0;34m\u001b[0m\u001b[0m\n\u001b[1;32m    667\u001b[0m         \u001b[0;31m# Also store the matrix to support multiple calls of matrix()\u001b[0m\u001b[0;34m\u001b[0m\u001b[0;34m\u001b[0m\u001b[0;34m\u001b[0m\u001b[0m\n",
      "\u001b[0;32m/opt/sagemath-9.3/local/lib/python3.7/site-packages/sage/matrix/matrix_space.py\u001b[0m in \u001b[0;36m__call__\u001b[0;34m(self, entries, coerce, copy)\u001b[0m\n\u001b[1;32m    848\u001b[0m             \u001b[0;34m[\u001b[0m\u001b[0mt\u001b[0m\u001b[0;34m]\u001b[0m\u001b[0;34m\u001b[0m\u001b[0;34m\u001b[0m\u001b[0m\n\u001b[1;32m    849\u001b[0m         \"\"\"\n\u001b[0;32m--> 850\u001b[0;31m         \u001b[0;32mreturn\u001b[0m \u001b[0mself\u001b[0m\u001b[0;34m.\u001b[0m\u001b[0melement_class\u001b[0m\u001b[0;34m(\u001b[0m\u001b[0mself\u001b[0m\u001b[0;34m,\u001b[0m \u001b[0mentries\u001b[0m\u001b[0;34m,\u001b[0m \u001b[0mcopy\u001b[0m\u001b[0;34m,\u001b[0m \u001b[0mcoerce\u001b[0m\u001b[0;34m)\u001b[0m\u001b[0;34m\u001b[0m\u001b[0;34m\u001b[0m\u001b[0m\n\u001b[0m\u001b[1;32m    851\u001b[0m \u001b[0;34m\u001b[0m\u001b[0m\n\u001b[1;32m    852\u001b[0m     \u001b[0;32mdef\u001b[0m \u001b[0mchange_ring\u001b[0m\u001b[0;34m(\u001b[0m\u001b[0mself\u001b[0m\u001b[0;34m,\u001b[0m \u001b[0mR\u001b[0m\u001b[0;34m)\u001b[0m\u001b[0;34m:\u001b[0m\u001b[0;34m\u001b[0m\u001b[0;34m\u001b[0m\u001b[0m\n",
      "\u001b[0;32m/opt/sagemath-9.3/local/lib/python3.7/site-packages/sage/matrix/matrix_integer_dense.pyx\u001b[0m in \u001b[0;36msage.matrix.matrix_integer_dense.Matrix_integer_dense.__init__ (build/cythonized/sage/matrix/matrix_integer_dense.cpp:7129)\u001b[0;34m()\u001b[0m\n\u001b[1;32m    309\u001b[0m         \u001b[0mma\u001b[0m \u001b[0;34m=\u001b[0m \u001b[0mMatrixArgs_init\u001b[0m\u001b[0;34m(\u001b[0m\u001b[0mparent\u001b[0m\u001b[0;34m,\u001b[0m \u001b[0mentries\u001b[0m\u001b[0;34m)\u001b[0m\u001b[0;34m\u001b[0m\u001b[0;34m\u001b[0m\u001b[0m\n\u001b[1;32m    310\u001b[0m         \u001b[0mcdef\u001b[0m \u001b[0mInteger\u001b[0m \u001b[0mz\u001b[0m\u001b[0;34m\u001b[0m\u001b[0;34m\u001b[0m\u001b[0m\n\u001b[0;32m--> 311\u001b[0;31m         \u001b[0;32mfor\u001b[0m \u001b[0mt\u001b[0m \u001b[0;32min\u001b[0m \u001b[0mma\u001b[0m\u001b[0;34m.\u001b[0m\u001b[0miter\u001b[0m\u001b[0;34m(\u001b[0m\u001b[0mcoerce\u001b[0m\u001b[0;34m,\u001b[0m \u001b[0;32mTrue\u001b[0m\u001b[0;34m)\u001b[0m\u001b[0;34m:\u001b[0m\u001b[0;34m\u001b[0m\u001b[0;34m\u001b[0m\u001b[0m\n\u001b[0m\u001b[1;32m    312\u001b[0m             \u001b[0mse\u001b[0m \u001b[0;34m=\u001b[0m \u001b[0;34m<\u001b[0m\u001b[0mSparseEntry\u001b[0m\u001b[0;34m>\u001b[0m\u001b[0mt\u001b[0m\u001b[0;34m\u001b[0m\u001b[0;34m\u001b[0m\u001b[0m\n\u001b[1;32m    313\u001b[0m             \u001b[0mz\u001b[0m \u001b[0;34m=\u001b[0m \u001b[0;34m<\u001b[0m\u001b[0mInteger\u001b[0m\u001b[0;34m>\u001b[0m\u001b[0mse\u001b[0m\u001b[0;34m.\u001b[0m\u001b[0mentry\u001b[0m\u001b[0;34m\u001b[0m\u001b[0;34m\u001b[0m\u001b[0m\n",
      "\u001b[0;32m/opt/sagemath-9.3/local/lib/python3.7/site-packages/sage/matrix/args.pyx\u001b[0m in \u001b[0;36miter (build/cythonized/sage/matrix/args.c:6733)\u001b[0;34m()\u001b[0m\n\u001b[1;32m    529\u001b[0m                     \u001b[0mx\u001b[0m \u001b[0;34m=\u001b[0m \u001b[0mnext\u001b[0m\u001b[0;34m(\u001b[0m\u001b[0mit\u001b[0m\u001b[0;34m)\u001b[0m\u001b[0;34m\u001b[0m\u001b[0;34m\u001b[0m\u001b[0m\n\u001b[1;32m    530\u001b[0m                     \u001b[0;32mif\u001b[0m \u001b[0mconvert\u001b[0m \u001b[0;32mand\u001b[0m \u001b[0mself\u001b[0m\u001b[0;34m.\u001b[0m\u001b[0mneed_to_convert\u001b[0m\u001b[0;34m(\u001b[0m\u001b[0mx\u001b[0m\u001b[0;34m)\u001b[0m\u001b[0;34m:\u001b[0m\u001b[0;34m\u001b[0m\u001b[0;34m\u001b[0m\u001b[0m\n\u001b[0;32m--> 531\u001b[0;31m                         \u001b[0mx\u001b[0m \u001b[0;34m=\u001b[0m \u001b[0mself\u001b[0m\u001b[0;34m.\u001b[0m\u001b[0mbase\u001b[0m\u001b[0;34m(\u001b[0m\u001b[0mx\u001b[0m\u001b[0;34m)\u001b[0m\u001b[0;34m\u001b[0m\u001b[0;34m\u001b[0m\u001b[0m\n\u001b[0m\u001b[1;32m    532\u001b[0m                     \u001b[0;32mif\u001b[0m \u001b[0msparse\u001b[0m\u001b[0;34m:\u001b[0m\u001b[0;34m\u001b[0m\u001b[0;34m\u001b[0m\u001b[0m\n\u001b[1;32m    533\u001b[0m                         \u001b[0;32myield\u001b[0m \u001b[0mmake_SparseEntry\u001b[0m\u001b[0;34m(\u001b[0m\u001b[0mi\u001b[0m\u001b[0;34m,\u001b[0m \u001b[0mj\u001b[0m\u001b[0;34m,\u001b[0m \u001b[0mx\u001b[0m\u001b[0;34m)\u001b[0m\u001b[0;34m\u001b[0m\u001b[0;34m\u001b[0m\u001b[0m\n",
      "\u001b[0;32m/opt/sagemath-9.3/local/lib/python3.7/site-packages/sage/structure/parent.pyx\u001b[0m in \u001b[0;36msage.structure.parent.Parent.__call__ (build/cythonized/sage/structure/parent.c:9336)\u001b[0;34m()\u001b[0m\n\u001b[1;32m    896\u001b[0m         \u001b[0;32mif\u001b[0m \u001b[0mmor\u001b[0m \u001b[0;32mis\u001b[0m \u001b[0;32mnot\u001b[0m \u001b[0;32mNone\u001b[0m\u001b[0;34m:\u001b[0m\u001b[0;34m\u001b[0m\u001b[0;34m\u001b[0m\u001b[0m\n\u001b[1;32m    897\u001b[0m             \u001b[0;32mif\u001b[0m \u001b[0mno_extra_args\u001b[0m\u001b[0;34m:\u001b[0m\u001b[0;34m\u001b[0m\u001b[0;34m\u001b[0m\u001b[0m\n\u001b[0;32m--> 898\u001b[0;31m                 \u001b[0;32mreturn\u001b[0m \u001b[0mmor\u001b[0m\u001b[0;34m.\u001b[0m\u001b[0m_call_\u001b[0m\u001b[0;34m(\u001b[0m\u001b[0mx\u001b[0m\u001b[0;34m)\u001b[0m\u001b[0;34m\u001b[0m\u001b[0;34m\u001b[0m\u001b[0m\n\u001b[0m\u001b[1;32m    899\u001b[0m             \u001b[0;32melse\u001b[0m\u001b[0;34m:\u001b[0m\u001b[0;34m\u001b[0m\u001b[0;34m\u001b[0m\u001b[0m\n\u001b[1;32m    900\u001b[0m                 \u001b[0;32mreturn\u001b[0m \u001b[0mmor\u001b[0m\u001b[0;34m.\u001b[0m\u001b[0m_call_with_args\u001b[0m\u001b[0;34m(\u001b[0m\u001b[0mx\u001b[0m\u001b[0;34m,\u001b[0m \u001b[0margs\u001b[0m\u001b[0;34m,\u001b[0m \u001b[0mkwds\u001b[0m\u001b[0;34m)\u001b[0m\u001b[0;34m\u001b[0m\u001b[0;34m\u001b[0m\u001b[0m\n",
      "\u001b[0;32m/opt/sagemath-9.3/local/lib/python3.7/site-packages/sage/rings/rational.pyx\u001b[0m in \u001b[0;36msage.rings.rational.Q_to_Z._call_ (build/cythonized/sage/rings/rational.cpp:32497)\u001b[0;34m()\u001b[0m\n\u001b[1;32m   4162\u001b[0m         \"\"\"\n\u001b[1;32m   4163\u001b[0m         \u001b[0;32mif\u001b[0m \u001b[0;32mnot\u001b[0m \u001b[0mmpz_cmp_si\u001b[0m\u001b[0;34m(\u001b[0m\u001b[0mmpq_denref\u001b[0m\u001b[0;34m(\u001b[0m\u001b[0;34m(\u001b[0m\u001b[0;34m<\u001b[0m\u001b[0mRational\u001b[0m\u001b[0;34m>\u001b[0m\u001b[0mx\u001b[0m\u001b[0;34m)\u001b[0m\u001b[0;34m.\u001b[0m\u001b[0mvalue\u001b[0m\u001b[0;34m)\u001b[0m\u001b[0;34m,\u001b[0m \u001b[0;36m1\u001b[0m\u001b[0;34m)\u001b[0m \u001b[0;34m==\u001b[0m \u001b[0;36m0\u001b[0m\u001b[0;34m:\u001b[0m\u001b[0;34m\u001b[0m\u001b[0;34m\u001b[0m\u001b[0m\n\u001b[0;32m-> 4164\u001b[0;31m             \u001b[0;32mraise\u001b[0m \u001b[0mTypeError\u001b[0m\u001b[0;34m(\u001b[0m\u001b[0;34m\"no conversion of this rational to integer\"\u001b[0m\u001b[0;34m)\u001b[0m\u001b[0;34m\u001b[0m\u001b[0;34m\u001b[0m\u001b[0m\n\u001b[0m\u001b[1;32m   4165\u001b[0m         \u001b[0mcdef\u001b[0m \u001b[0mInteger\u001b[0m \u001b[0mn\u001b[0m \u001b[0;34m=\u001b[0m \u001b[0mInteger\u001b[0m\u001b[0;34m.\u001b[0m\u001b[0m__new__\u001b[0m\u001b[0;34m(\u001b[0m\u001b[0mInteger\u001b[0m\u001b[0;34m)\u001b[0m\u001b[0;34m\u001b[0m\u001b[0;34m\u001b[0m\u001b[0m\n\u001b[1;32m   4166\u001b[0m         \u001b[0mn\u001b[0m\u001b[0;34m.\u001b[0m\u001b[0mset_from_mpz\u001b[0m\u001b[0;34m(\u001b[0m\u001b[0mmpq_numref\u001b[0m\u001b[0;34m(\u001b[0m\u001b[0;34m(\u001b[0m\u001b[0;34m<\u001b[0m\u001b[0mRational\u001b[0m\u001b[0;34m>\u001b[0m\u001b[0mx\u001b[0m\u001b[0;34m)\u001b[0m\u001b[0;34m.\u001b[0m\u001b[0mvalue\u001b[0m\u001b[0;34m)\u001b[0m\u001b[0;34m)\u001b[0m\u001b[0;34m\u001b[0m\u001b[0;34m\u001b[0m\u001b[0m\n",
      "\u001b[0;31mTypeError\u001b[0m: no conversion of this rational to integer"
     ]
    }
   ],
   "source": [
    "matrix(ZZ,[[1,2/3],[3,4]]) # 2/3 not an Integer"
   ]
  },
  {
   "cell_type": "code",
   "execution_count": 107,
   "metadata": {},
   "outputs": [
    {
     "data": {
      "text/html": [
       "<html><script type=\"math/tex; mode=display\">\\newcommand{\\Bold}[1]{\\mathbf{#1}}\\left(\\begin{array}{rr}\n",
       "0 & 0 \\\\\n",
       "0 & 0\n",
       "\\end{array}\\right)</script></html>"
      ],
      "text/latex": [
       "$$\\newcommand{\\Bold}[1]{\\mathbf{#1}}\\left(\\begin{array}{rr}\n",
       "0 & 0 \\\\\n",
       "0 & 0\n",
       "\\end{array}\\right)$$"
      ],
      "text/plain": [
       "[0 0]\n",
       "[0 0]"
      ]
     },
     "metadata": {},
     "output_type": "display_data"
    },
    {
     "data": {
      "text/html": [
       "<html><script type=\"math/tex; mode=display\">\\newcommand{\\Bold}[1]{\\mathbf{#1}}\\left(\\begin{array}{rr}\n",
       "4 & 5 \\\\\n",
       "6 & 7\n",
       "\\end{array}\\right)</script></html>"
      ],
      "text/latex": [
       "$$\\newcommand{\\Bold}[1]{\\mathbf{#1}}\\left(\\begin{array}{rr}\n",
       "4 & 5 \\\\\n",
       "6 & 7\n",
       "\\end{array}\\right)$$"
      ],
      "text/plain": [
       "[4 5]\n",
       "[6 7]"
      ]
     },
     "metadata": {},
     "output_type": "display_data"
    },
    {
     "data": {
      "text/html": [
       "<html><script type=\"math/tex; mode=display\">\\newcommand{\\Bold}[1]{\\mathbf{#1}}\\left(\\begin{array}{rr}\n",
       "4 & 5 \\\\\n",
       "6 & 7\n",
       "\\end{array}\\right)</script></html>"
      ],
      "text/latex": [
       "$$\\newcommand{\\Bold}[1]{\\mathbf{#1}}\\left(\\begin{array}{rr}\n",
       "4 & 5 \\\\\n",
       "6 & 7\n",
       "\\end{array}\\right)$$"
      ],
      "text/plain": [
       "[4 5]\n",
       "[6 7]"
      ]
     },
     "metadata": {},
     "output_type": "display_data"
    }
   ],
   "source": [
    "# le second/troisièmes paramètres sont les dimensions (optionnel)\n",
    "# si ils sont présents ils imposent le nombre de coefficients (si aucun que des zéros)\n",
    "A=matrix(ZZ,2,2)\n",
    "B=matrix(ZZ,2,2,[[4,5],[6,7]])\n",
    "C=matrix(ZZ,2,2,[4,5,6,7])\n",
    "show(A)\n",
    "show(B)\n",
    "show(C)"
   ]
  },
  {
   "cell_type": "code",
   "execution_count": 130,
   "metadata": {},
   "outputs": [
    {
     "data": {
      "text/html": [
       "<html><script type=\"math/tex; mode=display\">\\newcommand{\\Bold}[1]{\\mathbf{#1}}\\mathrm{Mat}_{2\\times 2}(\\Bold{Q}) \\verb|et| \\mathrm{Mat}_{2\\times 3}(\\Bold{Z})</script></html>"
      ],
      "text/latex": [
       "$$\\newcommand{\\Bold}[1]{\\mathbf{#1}}\\mathrm{Mat}_{2\\times 2}(\\Bold{Q}) \\verb|et| \\mathrm{Mat}_{2\\times 3}(\\Bold{Z})$$"
      ],
      "text/plain": [
       "Full MatrixSpace of 2 by 2 dense matrices over Rational Field 'et' Full MatrixSpace of 2 by 3 dense matrices over Integer Ring"
      ]
     },
     "metadata": {},
     "output_type": "display_data"
    },
    {
     "data": {
      "text/plain": [
       "(Full MatrixSpace of 2 by 2 dense matrices over Rational Field,\n",
       " Full MatrixSpace of 2 by 3 dense matrices over Integer Ring)"
      ]
     },
     "execution_count": 130,
     "metadata": {},
     "output_type": "execute_result"
    }
   ],
   "source": [
    "# Comme les matrices vivent dans un espace de matrice on peut définir cet objet\n",
    "MS23=MatrixSpace(ZZ,2,3)\n",
    "MS22=MatrixSpace(QQ,2,2)\n",
    "show(MS22,'et',MS23)\n",
    "MS22,MS23"
   ]
  },
  {
   "cell_type": "code",
   "execution_count": 128,
   "metadata": {},
   "outputs": [
    {
     "data": {
      "text/plain": [
       "(6, (2, 3))"
      ]
     },
     "execution_count": 128,
     "metadata": {},
     "output_type": "execute_result"
    }
   ],
   "source": [
    "MS23.dimension() , MS23.dims()"
   ]
  },
  {
   "cell_type": "code",
   "execution_count": 123,
   "metadata": {},
   "outputs": [
    {
     "data": {
      "text/plain": [
       "Full MatrixSpace of 2 by 2 dense matrices over Rational Field"
      ]
     },
     "execution_count": 123,
     "metadata": {},
     "output_type": "execute_result"
    }
   ],
   "source": [
    "A=MS22.matrix([1,2,3,4])\n",
    "A.parent()"
   ]
  },
  {
   "cell_type": "code",
   "execution_count": 132,
   "metadata": {},
   "outputs": [
    {
     "data": {
      "text/plain": [
       "[  -2    1]\n",
       "[   0 -1/2]"
      ]
     },
     "execution_count": 132,
     "metadata": {},
     "output_type": "execute_result"
    }
   ],
   "source": [
    "MS22.random_element()\n",
    "# show(_)"
   ]
  },
  {
   "cell_type": "code",
   "execution_count": 134,
   "metadata": {},
   "outputs": [
    {
     "data": {
      "text/plain": [
       "[60 24 57 51 19 33 98 33 92 37]\n",
       "[66  6 64 73 28 25 96 77 33 72]\n",
       "[78 46 72 96  7  5 59 93 79 33]\n",
       "[58 68 21 78 92 56  1 43 57  8]\n",
       "[95 35 10 30 60 25 18 65 51 40]\n",
       "[40 99 61 71 73 45 90 43 20 48]\n",
       "[77  5 38 65 50 21 96 56 87 64]\n",
       "[91 18 38 55 17 48 60 90  9 18]\n",
       "[32 16 79 86 37 77 22 14 20 73]\n",
       "[38 13  3  4 29 11  2 20 15 61]"
      ]
     },
     "execution_count": 134,
     "metadata": {},
     "output_type": "execute_result"
    }
   ],
   "source": [
    "MS10=MatrixSpace(ZZ,10,10)\n",
    "MS10.random_element(density=1,x=0,y=100)\n",
    "# show(_)"
   ]
  },
  {
   "cell_type": "code",
   "execution_count": 135,
   "metadata": {},
   "outputs": [
    {
     "data": {
      "text/plain": [
       "[ -9/49      0   -2/3   57/4      0 -16/29      0      0      0      0]\n",
       "[     0  18/71      0 -31/19      0      0  73/28      0  78/47      0]\n",
       "[     0      0  38/29      0      0      0  37/19      0 21/100      0]\n",
       "[     0  11/42      0 -64/33      0 -27/13  -7/50      0    6/5      0]\n",
       "[     0      0 -13/11      0      0 -74/43      0      0 -43/66      0]\n",
       "[     0      0      0 -53/67   74/9      0      0 -80/81      0      0]\n",
       "[ 68/11      0      0  43/56  75/53      0   -1/2      0      0      0]\n",
       "[     0   5/63      0      0      0      0      0  55/18   -7/5  -19/8]\n",
       "[     0      0  74/33 -97/83    1/3      0  73/76      0      0      0]\n",
       "[     0      0      0     -5      0  33/16      0  -31/6     61  83/72]"
      ]
     },
     "execution_count": 135,
     "metadata": {},
     "output_type": "execute_result"
    }
   ],
   "source": [
    "MS10=MS10.change_ring(QQ)\n",
    "MS10.random_element(density=0.5,num_bound=100,den_bound=100)\n",
    "# show(_)"
   ]
  },
  {
   "cell_type": "markdown",
   "metadata": {},
   "source": [
    "### un peu de calcul algébrique matriciel"
   ]
  },
  {
   "cell_type": "code",
   "execution_count": 136,
   "metadata": {},
   "outputs": [
    {
     "data": {
      "text/html": [
       "<html><script type=\"math/tex; mode=display\">\\newcommand{\\Bold}[1]{\\mathbf{#1}}\\verb|A=| \\left(\\begin{array}{rrrrrrrrrr}\n",
       "12 & 0 & 4 & 15 & 9 & 8 & 2 & 13 & 15 & 10 \\\\\n",
       "5 & 1 & 4 & 5 & 9 & 6 & 12 & 13 & 2 & 12 \\\\\n",
       "13 & 4 & 10 & 2 & 2 & 3 & 6 & 11 & 2 & 1 \\\\\n",
       "13 & 8 & 10 & 2 & 3 & 13 & 1 & 16 & 5 & 15 \\\\\n",
       "3 & 6 & 5 & 11 & 6 & 11 & 7 & 13 & 11 & 10 \\\\\n",
       "1 & 0 & 10 & 6 & 15 & 9 & 9 & 11 & 8 & 9 \\\\\n",
       "16 & 8 & 14 & 8 & 12 & 13 & 0 & 5 & 0 & 9 \\\\\n",
       "6 & 7 & 2 & 12 & 3 & 0 & 2 & 2 & 14 & 13 \\\\\n",
       "10 & 4 & 15 & 8 & 4 & 2 & 7 & 15 & 16 & 2 \\\\\n",
       "0 & 5 & 16 & 14 & 15 & 14 & 9 & 7 & 16 & 1\n",
       "\\end{array}\\right)</script></html>"
      ],
      "text/latex": [
       "$$\\newcommand{\\Bold}[1]{\\mathbf{#1}}\\verb|A=| \\left(\\begin{array}{rrrrrrrrrr}\n",
       "12 & 0 & 4 & 15 & 9 & 8 & 2 & 13 & 15 & 10 \\\\\n",
       "5 & 1 & 4 & 5 & 9 & 6 & 12 & 13 & 2 & 12 \\\\\n",
       "13 & 4 & 10 & 2 & 2 & 3 & 6 & 11 & 2 & 1 \\\\\n",
       "13 & 8 & 10 & 2 & 3 & 13 & 1 & 16 & 5 & 15 \\\\\n",
       "3 & 6 & 5 & 11 & 6 & 11 & 7 & 13 & 11 & 10 \\\\\n",
       "1 & 0 & 10 & 6 & 15 & 9 & 9 & 11 & 8 & 9 \\\\\n",
       "16 & 8 & 14 & 8 & 12 & 13 & 0 & 5 & 0 & 9 \\\\\n",
       "6 & 7 & 2 & 12 & 3 & 0 & 2 & 2 & 14 & 13 \\\\\n",
       "10 & 4 & 15 & 8 & 4 & 2 & 7 & 15 & 16 & 2 \\\\\n",
       "0 & 5 & 16 & 14 & 15 & 14 & 9 & 7 & 16 & 1\n",
       "\\end{array}\\right)$$"
      ],
      "text/plain": [
       "'A=' [12  0  4 15  9  8  2 13 15 10]\n",
       "[ 5  1  4  5  9  6 12 13  2 12]\n",
       "[13  4 10  2  2  3  6 11  2  1]\n",
       "[13  8 10  2  3 13  1 16  5 15]\n",
       "[ 3  6  5 11  6 11  7 13 11 10]\n",
       "[ 1  0 10  6 15  9  9 11  8  9]\n",
       "[16  8 14  8 12 13  0  5  0  9]\n",
       "[ 6  7  2 12  3  0  2  2 14 13]\n",
       "[10  4 15  8  4  2  7 15 16  2]\n",
       "[ 0  5 16 14 15 14  9  7 16  1]"
      ]
     },
     "metadata": {},
     "output_type": "display_data"
    },
    {
     "data": {
      "text/html": [
       "det(A)=15"
      ],
      "text/plain": [
       "'det(A)=15'"
      ]
     },
     "metadata": {},
     "output_type": "display_data"
    }
   ],
   "source": [
    "N=10\n",
    "q=17\n",
    "MS=MatrixSpace(GF(q),N,N)\n",
    "A=MS.random_element()\n",
    "show(\"A=\",A)\n",
    "show(f\"det(A)={A.det()}\")"
   ]
  },
  {
   "cell_type": "code",
   "execution_count": 137,
   "metadata": {},
   "outputs": [
    {
     "data": {
      "text/html": [
       "<html><script type=\"math/tex; mode=display\">\\newcommand{\\Bold}[1]{\\mathbf{#1}}\\verb|B=| \\left(\\begin{array}{rrrrrrrrrr}\n",
       "12 & 0 & 4 & 15 & 9 & 8 & 2 & 13 & 15 & 10 \\\\\n",
       "5 & 1 & 4 & 5 & 9 & 6 & 12 & 13 & 2 & 12 \\\\\n",
       "13 & 4 & 10 & 2 & 2 & 3 & 6 & 11 & 2 & 1 \\\\\n",
       "13 & 8 & 10 & 2 & 3 & 13 & 1 & 16 & 5 & 15 \\\\\n",
       "3 & 6 & 5 & 11 & 6 & 11 & 7 & 13 & 11 & 10 \\\\\n",
       "1 & 0 & 10 & 6 & 15 & 9 & 9 & 11 & 8 & 9 \\\\\n",
       "16 & 8 & 14 & 8 & 12 & 13 & 0 & 5 & 0 & 9 \\\\\n",
       "6 & 7 & 2 & 12 & 3 & 0 & 2 & 2 & 14 & 13 \\\\\n",
       "10 & 4 & 15 & 8 & 4 & 2 & 7 & 15 & 16 & 2 \\\\\n",
       "0 & 5 & 16 & 14 & 15 & 14 & 9 & 7 & 16 & 1\n",
       "\\end{array}\\right)</script></html>"
      ],
      "text/latex": [
       "$$\\newcommand{\\Bold}[1]{\\mathbf{#1}}\\verb|B=| \\left(\\begin{array}{rrrrrrrrrr}\n",
       "12 & 0 & 4 & 15 & 9 & 8 & 2 & 13 & 15 & 10 \\\\\n",
       "5 & 1 & 4 & 5 & 9 & 6 & 12 & 13 & 2 & 12 \\\\\n",
       "13 & 4 & 10 & 2 & 2 & 3 & 6 & 11 & 2 & 1 \\\\\n",
       "13 & 8 & 10 & 2 & 3 & 13 & 1 & 16 & 5 & 15 \\\\\n",
       "3 & 6 & 5 & 11 & 6 & 11 & 7 & 13 & 11 & 10 \\\\\n",
       "1 & 0 & 10 & 6 & 15 & 9 & 9 & 11 & 8 & 9 \\\\\n",
       "16 & 8 & 14 & 8 & 12 & 13 & 0 & 5 & 0 & 9 \\\\\n",
       "6 & 7 & 2 & 12 & 3 & 0 & 2 & 2 & 14 & 13 \\\\\n",
       "10 & 4 & 15 & 8 & 4 & 2 & 7 & 15 & 16 & 2 \\\\\n",
       "0 & 5 & 16 & 14 & 15 & 14 & 9 & 7 & 16 & 1\n",
       "\\end{array}\\right)$$"
      ],
      "text/plain": [
       "'B=' [12  0  4 15  9  8  2 13 15 10]\n",
       "[ 5  1  4  5  9  6 12 13  2 12]\n",
       "[13  4 10  2  2  3  6 11  2  1]\n",
       "[13  8 10  2  3 13  1 16  5 15]\n",
       "[ 3  6  5 11  6 11  7 13 11 10]\n",
       "[ 1  0 10  6 15  9  9 11  8  9]\n",
       "[16  8 14  8 12 13  0  5  0  9]\n",
       "[ 6  7  2 12  3  0  2  2 14 13]\n",
       "[10  4 15  8  4  2  7 15 16  2]\n",
       "[ 0  5 16 14 15 14  9  7 16  1]"
      ]
     },
     "metadata": {},
     "output_type": "display_data"
    },
    {
     "data": {
      "text/html": [
       "det(B)=8251496565"
      ],
      "text/plain": [
       "'det(B)=8251496565'"
      ]
     },
     "metadata": {},
     "output_type": "display_data"
    }
   ],
   "source": [
    "B=A.change_ring(ZZ)\n",
    "show(\"B=\",B)\n",
    "show(f\"det(B)={B.det()}\")"
   ]
  },
  {
   "cell_type": "code",
   "execution_count": 138,
   "metadata": {},
   "outputs": [
    {
     "data": {
      "text/plain": [
       "True"
      ]
     },
     "execution_count": 138,
     "metadata": {},
     "output_type": "execute_result"
    }
   ],
   "source": [
    "B.det()%q == A.det()"
   ]
  },
  {
   "cell_type": "code",
   "execution_count": 139,
   "metadata": {},
   "outputs": [
    {
     "data": {
      "text/html": [
       "<html><script type=\"math/tex; mode=display\">\\newcommand{\\Bold}[1]{\\mathbf{#1}}\\left(\\begin{array}{rrrrrrrrrr}\n",
       "10 & 0 & 7 & 13 & 7 & 5 & 7 & 1 & 14 & 6 \\\\\n",
       "2 & 3 & 13 & 14 & 0 & 14 & 9 & 11 & 10 & 14 \\\\\n",
       "15 & 3 & 0 & 8 & 16 & 8 & 7 & 12 & 9 & 7 \\\\\n",
       "3 & 9 & 4 & 9 & 8 & 14 & 3 & 13 & 13 & 9 \\\\\n",
       "3 & 12 & 8 & 0 & 11 & 14 & 4 & 6 & 1 & 10 \\\\\n",
       "10 & 7 & 13 & 1 & 1 & 3 & 14 & 16 & 0 & 12 \\\\\n",
       "2 & 6 & 4 & 8 & 9 & 4 & 13 & 14 & 13 & 13 \\\\\n",
       "7 & 10 & 15 & 6 & 3 & 15 & 10 & 14 & 9 & 15 \\\\\n",
       "2 & 0 & 0 & 4 & 5 & 3 & 16 & 8 & 1 & 1 \\\\\n",
       "2 & 4 & 14 & 11 & 2 & 15 & 3 & 10 & 8 & 4\n",
       "\\end{array}\\right)</script></html>"
      ],
      "text/latex": [
       "$$\\newcommand{\\Bold}[1]{\\mathbf{#1}}\\left(\\begin{array}{rrrrrrrrrr}\n",
       "10 & 0 & 7 & 13 & 7 & 5 & 7 & 1 & 14 & 6 \\\\\n",
       "2 & 3 & 13 & 14 & 0 & 14 & 9 & 11 & 10 & 14 \\\\\n",
       "15 & 3 & 0 & 8 & 16 & 8 & 7 & 12 & 9 & 7 \\\\\n",
       "3 & 9 & 4 & 9 & 8 & 14 & 3 & 13 & 13 & 9 \\\\\n",
       "3 & 12 & 8 & 0 & 11 & 14 & 4 & 6 & 1 & 10 \\\\\n",
       "10 & 7 & 13 & 1 & 1 & 3 & 14 & 16 & 0 & 12 \\\\\n",
       "2 & 6 & 4 & 8 & 9 & 4 & 13 & 14 & 13 & 13 \\\\\n",
       "7 & 10 & 15 & 6 & 3 & 15 & 10 & 14 & 9 & 15 \\\\\n",
       "2 & 0 & 0 & 4 & 5 & 3 & 16 & 8 & 1 & 1 \\\\\n",
       "2 & 4 & 14 & 11 & 2 & 15 & 3 & 10 & 8 & 4\n",
       "\\end{array}\\right)$$"
      ],
      "text/plain": [
       "[10  0  7 13  7  5  7  1 14  6]\n",
       "[ 2  3 13 14  0 14  9 11 10 14]\n",
       "[15  3  0  8 16  8  7 12  9  7]\n",
       "[ 3  9  4  9  8 14  3 13 13  9]\n",
       "[ 3 12  8  0 11 14  4  6  1 10]\n",
       "[10  7 13  1  1  3 14 16  0 12]\n",
       "[ 2  6  4  8  9  4 13 14 13 13]\n",
       "[ 7 10 15  6  3 15 10 14  9 15]\n",
       "[ 2  0  0  4  5  3 16  8  1  1]\n",
       "[ 2  4 14 11  2 15  3 10  8  4]"
      ]
     },
     "metadata": {},
     "output_type": "display_data"
    }
   ],
   "source": [
    "show(A^-1)"
   ]
  },
  {
   "cell_type": "code",
   "execution_count": 140,
   "metadata": {},
   "outputs": [
    {
     "data": {
      "text/html": [
       "<html><script type=\"math/tex; mode=display\">\\newcommand{\\Bold}[1]{\\mathbf{#1}}\\left(\\begin{array}{rrrrrrrrrr}\n",
       "\\frac{164630192}{2750498855} & -\\frac{111166026}{2750498855} & \\frac{107246751}{550099771} & \\frac{22691154}{550099771} & -\\frac{275297744}{2750498855} & \\frac{62263732}{2750498855} & -\\frac{212790767}{2750498855} & \\frac{168054338}{2750498855} & -\\frac{79104828}{550099771} & \\frac{163682728}{2750498855} \\\\\n",
       "-\\frac{256484821}{2750498855} & -\\frac{1117705292}{2750498855} & \\frac{213432123}{550099771} & -\\frac{74213554}{550099771} & \\frac{919842647}{2750498855} & \\frac{1029718154}{2750498855} & -\\frac{45737384}{2750498855} & \\frac{308066371}{2750498855} & -\\frac{105774177}{550099771} & -\\frac{525206804}{2750498855} \\\\\n",
       "-\\frac{57955862}{1650299313} & \\frac{489335336}{1650299313} & -\\frac{667237556}{1650299313} & \\frac{31005220}{550099771} & -\\frac{253898692}{1650299313} & -\\frac{465522128}{1650299313} & \\frac{199512344}{1650299313} & -\\frac{166340833}{1650299313} & \\frac{474674401}{1650299313} & \\frac{125694247}{1650299313} \\\\\n",
       "-\\frac{47867399}{8251496565} & \\frac{1956691397}{8251496565} & -\\frac{598020259}{1650299313} & -\\frac{40155470}{550099771} & \\frac{373286273}{8251496565} & -\\frac{2145859589}{8251496565} & \\frac{1415957279}{8251496565} & -\\frac{946220026}{8251496565} & \\frac{430811795}{1650299313} & -\\frac{147540281}{8251496565} \\\\\n",
       "-\\frac{134203718}{8251496565} & -\\frac{3135221131}{8251496565} & \\frac{599119481}{1650299313} & -\\frac{72436643}{550099771} & \\frac{1787959661}{8251496565} & \\frac{3556392322}{8251496565} & -\\frac{230765437}{8251496565} & \\frac{716495588}{8251496565} & -\\frac{341161369}{1650299313} & -\\frac{1445729507}{8251496565} \\\\\n",
       "\\frac{459549131}{8251496565} & \\frac{809554402}{8251496565} & -\\frac{376664}{1650299313} & \\frac{68668016}{550099771} & -\\frac{1191831497}{8251496565} & -\\frac{1161104239}{8251496565} & -\\frac{628197101}{8251496565} & -\\frac{127441841}{8251496565} & -\\frac{147514763}{1650299313} & \\frac{1395354179}{8251496565} \\\\\n",
       "\\frac{104535988}{8251496565} & \\frac{1223884031}{8251496565} & \\frac{118394642}{1650299313} & \\frac{36381045}{550099771} & -\\frac{1302085591}{8251496565} & -\\frac{998938997}{8251496565} & -\\frac{783440113}{8251496565} & \\frac{357988352}{8251496565} & -\\frac{137430001}{1650299313} & \\frac{1273042747}{8251496565} \\\\\n",
       "-\\frac{248818678}{8251496565} & -\\frac{1235212421}{8251496565} & \\frac{48363124}{1650299313} & -\\frac{56627963}{550099771} & \\frac{1981908121}{8251496565} & \\frac{1319399567}{8251496565} & \\frac{472537063}{8251496565} & -\\frac{430405637}{8251496565} & \\frac{96349057}{1650299313} & -\\frac{1504516282}{8251496565} \\\\\n",
       "\\frac{116281948}{2750498855} & -\\frac{378629559}{2750498855} & \\frac{122037016}{550099771} & \\frac{36836148}{550099771} & -\\frac{206144151}{2750498855} & \\frac{330204088}{2750498855} & -\\frac{404473763}{2750498855} & \\frac{268252747}{2750498855} & -\\frac{93573983}{550099771} & \\frac{186161752}{2750498855} \\\\\n",
       "-\\frac{47373853}{8251496565} & \\frac{1725377779}{8251496565} & -\\frac{396786656}{1650299313} & \\frac{41946219}{550099771} & -\\frac{1105173404}{8251496565} & -\\frac{1347535528}{8251496565} & \\frac{315854503}{8251496565} & -\\frac{115084172}{8251496565} & \\frac{197062120}{1650299313} & \\frac{429072053}{8251496565}\n",
       "\\end{array}\\right)</script></html>"
      ],
      "text/latex": [
       "$$\\newcommand{\\Bold}[1]{\\mathbf{#1}}\\left(\\begin{array}{rrrrrrrrrr}\n",
       "\\frac{164630192}{2750498855} & -\\frac{111166026}{2750498855} & \\frac{107246751}{550099771} & \\frac{22691154}{550099771} & -\\frac{275297744}{2750498855} & \\frac{62263732}{2750498855} & -\\frac{212790767}{2750498855} & \\frac{168054338}{2750498855} & -\\frac{79104828}{550099771} & \\frac{163682728}{2750498855} \\\\\n",
       "-\\frac{256484821}{2750498855} & -\\frac{1117705292}{2750498855} & \\frac{213432123}{550099771} & -\\frac{74213554}{550099771} & \\frac{919842647}{2750498855} & \\frac{1029718154}{2750498855} & -\\frac{45737384}{2750498855} & \\frac{308066371}{2750498855} & -\\frac{105774177}{550099771} & -\\frac{525206804}{2750498855} \\\\\n",
       "-\\frac{57955862}{1650299313} & \\frac{489335336}{1650299313} & -\\frac{667237556}{1650299313} & \\frac{31005220}{550099771} & -\\frac{253898692}{1650299313} & -\\frac{465522128}{1650299313} & \\frac{199512344}{1650299313} & -\\frac{166340833}{1650299313} & \\frac{474674401}{1650299313} & \\frac{125694247}{1650299313} \\\\\n",
       "-\\frac{47867399}{8251496565} & \\frac{1956691397}{8251496565} & -\\frac{598020259}{1650299313} & -\\frac{40155470}{550099771} & \\frac{373286273}{8251496565} & -\\frac{2145859589}{8251496565} & \\frac{1415957279}{8251496565} & -\\frac{946220026}{8251496565} & \\frac{430811795}{1650299313} & -\\frac{147540281}{8251496565} \\\\\n",
       "-\\frac{134203718}{8251496565} & -\\frac{3135221131}{8251496565} & \\frac{599119481}{1650299313} & -\\frac{72436643}{550099771} & \\frac{1787959661}{8251496565} & \\frac{3556392322}{8251496565} & -\\frac{230765437}{8251496565} & \\frac{716495588}{8251496565} & -\\frac{341161369}{1650299313} & -\\frac{1445729507}{8251496565} \\\\\n",
       "\\frac{459549131}{8251496565} & \\frac{809554402}{8251496565} & -\\frac{376664}{1650299313} & \\frac{68668016}{550099771} & -\\frac{1191831497}{8251496565} & -\\frac{1161104239}{8251496565} & -\\frac{628197101}{8251496565} & -\\frac{127441841}{8251496565} & -\\frac{147514763}{1650299313} & \\frac{1395354179}{8251496565} \\\\\n",
       "\\frac{104535988}{8251496565} & \\frac{1223884031}{8251496565} & \\frac{118394642}{1650299313} & \\frac{36381045}{550099771} & -\\frac{1302085591}{8251496565} & -\\frac{998938997}{8251496565} & -\\frac{783440113}{8251496565} & \\frac{357988352}{8251496565} & -\\frac{137430001}{1650299313} & \\frac{1273042747}{8251496565} \\\\\n",
       "-\\frac{248818678}{8251496565} & -\\frac{1235212421}{8251496565} & \\frac{48363124}{1650299313} & -\\frac{56627963}{550099771} & \\frac{1981908121}{8251496565} & \\frac{1319399567}{8251496565} & \\frac{472537063}{8251496565} & -\\frac{430405637}{8251496565} & \\frac{96349057}{1650299313} & -\\frac{1504516282}{8251496565} \\\\\n",
       "\\frac{116281948}{2750498855} & -\\frac{378629559}{2750498855} & \\frac{122037016}{550099771} & \\frac{36836148}{550099771} & -\\frac{206144151}{2750498855} & \\frac{330204088}{2750498855} & -\\frac{404473763}{2750498855} & \\frac{268252747}{2750498855} & -\\frac{93573983}{550099771} & \\frac{186161752}{2750498855} \\\\\n",
       "-\\frac{47373853}{8251496565} & \\frac{1725377779}{8251496565} & -\\frac{396786656}{1650299313} & \\frac{41946219}{550099771} & -\\frac{1105173404}{8251496565} & -\\frac{1347535528}{8251496565} & \\frac{315854503}{8251496565} & -\\frac{115084172}{8251496565} & \\frac{197062120}{1650299313} & \\frac{429072053}{8251496565}\n",
       "\\end{array}\\right)$$"
      ],
      "text/plain": [
       "[  164630192/2750498855  -111166026/2750498855    107246751/550099771     22691154/550099771  -275297744/2750498855    62263732/2750498855  -212790767/2750498855   168054338/2750498855    -79104828/550099771   163682728/2750498855]\n",
       "[ -256484821/2750498855 -1117705292/2750498855    213432123/550099771    -74213554/550099771   919842647/2750498855  1029718154/2750498855   -45737384/2750498855   308066371/2750498855   -105774177/550099771  -525206804/2750498855]\n",
       "[  -57955862/1650299313   489335336/1650299313  -667237556/1650299313     31005220/550099771  -253898692/1650299313  -465522128/1650299313   199512344/1650299313  -166340833/1650299313   474674401/1650299313   125694247/1650299313]\n",
       "[  -47867399/8251496565  1956691397/8251496565  -598020259/1650299313    -40155470/550099771   373286273/8251496565 -2145859589/8251496565  1415957279/8251496565  -946220026/8251496565   430811795/1650299313  -147540281/8251496565]\n",
       "[ -134203718/8251496565 -3135221131/8251496565   599119481/1650299313    -72436643/550099771  1787959661/8251496565  3556392322/8251496565  -230765437/8251496565   716495588/8251496565  -341161369/1650299313 -1445729507/8251496565]\n",
       "[  459549131/8251496565   809554402/8251496565     -376664/1650299313     68668016/550099771 -1191831497/8251496565 -1161104239/8251496565  -628197101/8251496565  -127441841/8251496565  -147514763/1650299313  1395354179/8251496565]\n",
       "[  104535988/8251496565  1223884031/8251496565   118394642/1650299313     36381045/550099771 -1302085591/8251496565  -998938997/8251496565  -783440113/8251496565   357988352/8251496565  -137430001/1650299313  1273042747/8251496565]\n",
       "[ -248818678/8251496565 -1235212421/8251496565    48363124/1650299313    -56627963/550099771  1981908121/8251496565  1319399567/8251496565   472537063/8251496565  -430405637/8251496565    96349057/1650299313 -1504516282/8251496565]\n",
       "[  116281948/2750498855  -378629559/2750498855    122037016/550099771     36836148/550099771  -206144151/2750498855   330204088/2750498855  -404473763/2750498855   268252747/2750498855    -93573983/550099771   186161752/2750498855]\n",
       "[  -47373853/8251496565  1725377779/8251496565  -396786656/1650299313     41946219/550099771 -1105173404/8251496565 -1347535528/8251496565   315854503/8251496565  -115084172/8251496565   197062120/1650299313   429072053/8251496565]"
      ]
     },
     "metadata": {},
     "output_type": "display_data"
    }
   ],
   "source": [
    "show(B^-1)"
   ]
  },
  {
   "cell_type": "code",
   "execution_count": 142,
   "metadata": {},
   "outputs": [
    {
     "data": {
      "text/plain": [
       "(\n",
       "[10  0  7 13  7  5  7  1 14  6]  [10  0  7 13  7  5  7  1 14  6]\n",
       "[ 2  3 13 14  0 14  9 11 10 14]  [ 2  3 13 14  0 14  9 11 10 14]\n",
       "[15  3  0  8 16  8  7 12  9  7]  [15  3  0  8 16  8  7 12  9  7]\n",
       "[ 3  9  4  9  8 14  3 13 13  9]  [ 3  9  4  9  8 14  3 13 13  9]\n",
       "[ 3 12  8  0 11 14  4  6  1 10]  [ 3 12  8  0 11 14  4  6  1 10]\n",
       "[10  7 13  1  1  3 14 16  0 12]  [10  7 13  1  1  3 14 16  0 12]\n",
       "[ 2  6  4  8  9  4 13 14 13 13]  [ 2  6  4  8  9  4 13 14 13 13]\n",
       "[ 7 10 15  6  3 15 10 14  9 15]  [ 7 10 15  6  3 15 10 14  9 15]\n",
       "[ 2  0  0  4  5  3 16  8  1  1]  [ 2  0  0  4  5  3 16  8  1  1]\n",
       "[ 2  4 14 11  2 15  3 10  8  4], [ 2  4 14 11  2 15  3 10  8  4]\n",
       ")"
      ]
     },
     "execution_count": 142,
     "metadata": {},
     "output_type": "execute_result"
    }
   ],
   "source": [
    "(B^(-1)%q), A^-1\n",
    "# show(_)"
   ]
  },
  {
   "cell_type": "code",
   "execution_count": 143,
   "metadata": {},
   "outputs": [
    {
     "data": {
      "text/plain": [
       "False"
      ]
     },
     "execution_count": 143,
     "metadata": {},
     "output_type": "execute_result"
    }
   ],
   "source": [
    "# Expliquer le résultat obtenu\n",
    "(B^(-1)%q) ==  A^-1"
   ]
  },
  {
   "cell_type": "code",
   "execution_count": null,
   "metadata": {},
   "outputs": [],
   "source": [
    "# GF(N) is the the Integer Ring modulo N, so every elements of matrix A is basically the same as every elements in matrix B (in the Integer Ring) modulo N (work as well for the determinant and every result computed from A)"
   ]
  },
  {
   "cell_type": "code",
   "execution_count": null,
   "metadata": {},
   "outputs": [],
   "source": []
  },
  {
   "cell_type": "code",
   "execution_count": null,
   "metadata": {},
   "outputs": [],
   "source": []
  },
  {
   "cell_type": "code",
   "execution_count": 144,
   "metadata": {},
   "outputs": [
    {
     "data": {
      "text/plain": [
       "(Full MatrixSpace of 10 by 10 dense matrices over Rational Field,\n",
       " Full MatrixSpace of 10 by 10 dense matrices over Finite Field of size 17)"
      ]
     },
     "execution_count": 144,
     "metadata": {},
     "output_type": "execute_result"
    }
   ],
   "source": [
    "(B^(-1)%q).parent(),(A^-1).parent()"
   ]
  },
  {
   "cell_type": "code",
   "execution_count": 145,
   "metadata": {},
   "outputs": [
    {
     "data": {
      "text/plain": [
       "True"
      ]
     },
     "execution_count": 145,
     "metadata": {},
     "output_type": "execute_result"
    }
   ],
   "source": [
    "(B^(-1)%q) ==  (A^-1).change_ring(B.base_ring())"
   ]
  },
  {
   "cell_type": "code",
   "execution_count": 146,
   "metadata": {},
   "outputs": [
    {
     "data": {
      "text/plain": [
       "True"
      ]
     },
     "execution_count": 146,
     "metadata": {},
     "output_type": "execute_result"
    }
   ],
   "source": [
    "(B^(-1)).change_ring(A.base_ring()) ==  (A^-1)"
   ]
  },
  {
   "cell_type": "code",
   "execution_count": null,
   "metadata": {},
   "outputs": [],
   "source": []
  },
  {
   "cell_type": "code",
   "execution_count": null,
   "metadata": {},
   "outputs": [],
   "source": []
  }
 ],
 "metadata": {
  "celltoolbar": "Éditer les Méta-Données",
  "kernelspec": {
   "display_name": "SageMath 9.3 for VSCode",
   "language": "python",
   "name": "sagemath-vscode"
  },
  "language_info": {
   "codemirror_mode": {
    "name": "ipython",
    "version": 3
   },
   "file_extension": ".py",
   "mimetype": "text/x-python",
   "name": "python",
   "nbconvert_exporter": "python",
   "pygments_lexer": "ipython3",
   "version": "3.7.10"
  },
  "toc": {
   "base_numbering": 1,
   "nav_menu": {},
   "number_sections": true,
   "sideBar": true,
   "skip_h1_title": true,
   "title_cell": "Table of Contents",
   "title_sidebar": "Contents",
   "toc_cell": false,
   "toc_position": {
    "height": "calc(100% - 180px)",
    "left": "10px",
    "top": "150px",
    "width": "165px"
   },
   "toc_section_display": true,
   "toc_window_display": true
  },
  "varInspector": {
   "cols": {
    "lenName": 16,
    "lenType": 16,
    "lenVar": 40
   },
   "kernels_config": {
    "python": {
     "delete_cmd_postfix": "",
     "delete_cmd_prefix": "del ",
     "library": "var_list.py",
     "varRefreshCmd": "print(var_dic_list())"
    },
    "r": {
     "delete_cmd_postfix": ") ",
     "delete_cmd_prefix": "rm(",
     "library": "var_list.r",
     "varRefreshCmd": "cat(var_dic_list()) "
    }
   },
   "types_to_exclude": [
    "module",
    "function",
    "builtin_function_or_method",
    "instance",
    "_Feature"
   ],
   "window_display": false
  },
  "vscode": {
   "interpreter": {
    "hash": "81330382ab1ba62609b71606825ef662099859f62620180ec660642768814311"
   }
  }
 },
 "nbformat": 4,
 "nbformat_minor": 4
}
